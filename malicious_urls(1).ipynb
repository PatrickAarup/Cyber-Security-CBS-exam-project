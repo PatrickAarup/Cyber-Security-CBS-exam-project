{
  "cells": [
    {
      "cell_type": "markdown",
      "metadata": {
        "id": "hVYFQ9QNS3hi"
      },
      "source": [
        "# **Malicious URLs Notebook**"
      ]
    },
    {
      "cell_type": "markdown",
      "metadata": {
        "id": "dPBtvmMSTOwV"
      },
      "source": [
        "## Step 1: Handle imports and import CSV file from shareable link"
      ]
    },
    {
      "cell_type": "code",
      "execution_count": null,
      "metadata": {
        "colab": {
          "base_uri": "https://localhost:8080/"
        },
        "id": "ThJHCE-BMOQH",
        "outputId": "22645b7d-4405-40a3-b186-ec45fa681fd0"
      },
      "outputs": [
        {
          "output_type": "stream",
          "name": "stdout",
          "text": [
            "\u001b[?25l\r\u001b[K     |▉                               | 10 kB 20.2 MB/s eta 0:00:01\r\u001b[K     |█▋                              | 20 kB 30.0 MB/s eta 0:00:01\r\u001b[K     |██▍                             | 30 kB 38.1 MB/s eta 0:00:01\r\u001b[K     |███▏                            | 40 kB 19.0 MB/s eta 0:00:01\r\u001b[K     |████                            | 51 kB 17.5 MB/s eta 0:00:01\r\u001b[K     |████▊                           | 61 kB 19.9 MB/s eta 0:00:01\r\u001b[K     |█████▋                          | 71 kB 21.2 MB/s eta 0:00:01\r\u001b[K     |██████▍                         | 81 kB 22.8 MB/s eta 0:00:01\r\u001b[K     |███████▏                        | 92 kB 24.3 MB/s eta 0:00:01\r\u001b[K     |████████                        | 102 kB 23.8 MB/s eta 0:00:01\r\u001b[K     |████████▊                       | 112 kB 23.8 MB/s eta 0:00:01\r\u001b[K     |█████████▌                      | 122 kB 23.8 MB/s eta 0:00:01\r\u001b[K     |██████████▍                     | 133 kB 23.8 MB/s eta 0:00:01\r\u001b[K     |███████████▏                    | 143 kB 23.8 MB/s eta 0:00:01\r\u001b[K     |████████████                    | 153 kB 23.8 MB/s eta 0:00:01\r\u001b[K     |████████████▊                   | 163 kB 23.8 MB/s eta 0:00:01\r\u001b[K     |█████████████▌                  | 174 kB 23.8 MB/s eta 0:00:01\r\u001b[K     |██████████████▎                 | 184 kB 23.8 MB/s eta 0:00:01\r\u001b[K     |███████████████                 | 194 kB 23.8 MB/s eta 0:00:01\r\u001b[K     |████████████████                | 204 kB 23.8 MB/s eta 0:00:01\r\u001b[K     |████████████████▊               | 215 kB 23.8 MB/s eta 0:00:01\r\u001b[K     |█████████████████▌              | 225 kB 23.8 MB/s eta 0:00:01\r\u001b[K     |██████████████████▎             | 235 kB 23.8 MB/s eta 0:00:01\r\u001b[K     |███████████████████             | 245 kB 23.8 MB/s eta 0:00:01\r\u001b[K     |███████████████████▉            | 256 kB 23.8 MB/s eta 0:00:01\r\u001b[K     |████████████████████▊           | 266 kB 23.8 MB/s eta 0:00:01\r\u001b[K     |█████████████████████▌          | 276 kB 23.8 MB/s eta 0:00:01\r\u001b[K     |██████████████████████▎         | 286 kB 23.8 MB/s eta 0:00:01\r\u001b[K     |███████████████████████         | 296 kB 23.8 MB/s eta 0:00:01\r\u001b[K     |███████████████████████▉        | 307 kB 23.8 MB/s eta 0:00:01\r\u001b[K     |████████████████████████▋       | 317 kB 23.8 MB/s eta 0:00:01\r\u001b[K     |█████████████████████████▍      | 327 kB 23.8 MB/s eta 0:00:01\r\u001b[K     |██████████████████████████▎     | 337 kB 23.8 MB/s eta 0:00:01\r\u001b[K     |███████████████████████████     | 348 kB 23.8 MB/s eta 0:00:01\r\u001b[K     |███████████████████████████▉    | 358 kB 23.8 MB/s eta 0:00:01\r\u001b[K     |████████████████████████████▋   | 368 kB 23.8 MB/s eta 0:00:01\r\u001b[K     |█████████████████████████████▍  | 378 kB 23.8 MB/s eta 0:00:01\r\u001b[K     |██████████████████████████████▏ | 389 kB 23.8 MB/s eta 0:00:01\r\u001b[K     |███████████████████████████████ | 399 kB 23.8 MB/s eta 0:00:01\r\u001b[K     |███████████████████████████████▉| 409 kB 23.8 MB/s eta 0:00:01\r\u001b[K     |████████████████████████████████| 412 kB 23.8 MB/s \n",
            "\u001b[?25h"
          ]
        }
      ],
      "source": [
        "!pip install -q tld # Top level domain\n",
        "!pip install -U -q PyDrive\n",
        "!pip install -q xgboost"
      ]
    },
    {
      "cell_type": "code",
      "execution_count": null,
      "metadata": {
        "id": "YR7f8wianTTT"
      },
      "outputs": [],
      "source": [
        "import pandas as pd\n",
        "import numpy as np\n",
        "import seaborn as sns\n",
        "import matplotlib.pyplot as plt\n",
        "import time\n",
        "import re\n",
        "\n",
        "from pydrive.auth import GoogleAuth\n",
        "from pydrive.drive import GoogleDrive\n",
        "from google.colab import auth, files\n",
        "from oauth2client.client import GoogleCredentials\n",
        "\n",
        "from sklearn.dummy import DummyClassifier # baseline model\n",
        "from sklearn.ensemble import RandomForestClassifier\n",
        "from sklearn.linear_model import LogisticRegression\n",
        "from sklearn.neural_network import MLPClassifier\n",
        "\n",
        "from sklearn.model_selection import (\n",
        "    train_test_split,\n",
        "    GridSearchCV\n",
        ")\n",
        "from sklearn.metrics import (\n",
        "    accuracy_score,\n",
        "    f1_score,\n",
        "    recall_score,\n",
        "    precision_score,\n",
        "    roc_auc_score,\n",
        "    roc_curve,\n",
        "    ConfusionMatrixDisplay,\n",
        "    confusion_matrix\n",
        ")\n",
        "from sklearn.preprocessing import StandardScaler # data is normal distributed, hence using StandardScaler\n",
        "\n",
        "from xgboost import XGBClassifier\n",
        "\n",
        "from typing import Tuple, Union\n",
        "\n",
        "from scipy.stats import kstest\n",
        "\n",
        "from urllib.parse import urlparse\n",
        "from tld import get_tld, is_tld"
      ]
    },
    {
      "cell_type": "code",
      "execution_count": null,
      "metadata": {
        "id": "ldAIOK5wRVZD"
      },
      "outputs": [],
      "source": [
        "# Authenticate user on google colab\n",
        "auth.authenticate_user()\n",
        "\n",
        "# Create google auth session and pass credentials\n",
        "g_auth = GoogleAuth()\n",
        "g_auth.credentials = GoogleCredentials.get_application_default()\n",
        "\n",
        "# Allow colab session to access drive folders and files\n",
        "drive = GoogleDrive(g_auth)"
      ]
    },
    {
      "cell_type": "code",
      "execution_count": null,
      "metadata": {
        "colab": {
          "base_uri": "https://localhost:8080/",
          "height": 206
        },
        "id": "KNnI6-2zUHUa",
        "outputId": "e6205348-7e17-4ff8-b4b9-76c47f32534c"
      },
      "outputs": [
        {
          "output_type": "execute_result",
          "data": {
            "text/plain": [
              "                                                 url        type\n",
              "0                                   br-icloud.com.br    phishing\n",
              "1                mp3raid.com/music/krizz_kaliko.html      benign\n",
              "2                    bopsecrets.org/rexroth/cr/1.htm      benign\n",
              "3  http://www.garage-pirenne.be/index.php?option=...  defacement\n",
              "4  http://adventure-nicaragua.net/index.php?optio...  defacement"
            ],
            "text/html": [
              "\n",
              "  <div id=\"df-dff2ea76-ecc4-43d2-979d-7868441354be\">\n",
              "    <div class=\"colab-df-container\">\n",
              "      <div>\n",
              "<style scoped>\n",
              "    .dataframe tbody tr th:only-of-type {\n",
              "        vertical-align: middle;\n",
              "    }\n",
              "\n",
              "    .dataframe tbody tr th {\n",
              "        vertical-align: top;\n",
              "    }\n",
              "\n",
              "    .dataframe thead th {\n",
              "        text-align: right;\n",
              "    }\n",
              "</style>\n",
              "<table border=\"1\" class=\"dataframe\">\n",
              "  <thead>\n",
              "    <tr style=\"text-align: right;\">\n",
              "      <th></th>\n",
              "      <th>url</th>\n",
              "      <th>type</th>\n",
              "    </tr>\n",
              "  </thead>\n",
              "  <tbody>\n",
              "    <tr>\n",
              "      <th>0</th>\n",
              "      <td>br-icloud.com.br</td>\n",
              "      <td>phishing</td>\n",
              "    </tr>\n",
              "    <tr>\n",
              "      <th>1</th>\n",
              "      <td>mp3raid.com/music/krizz_kaliko.html</td>\n",
              "      <td>benign</td>\n",
              "    </tr>\n",
              "    <tr>\n",
              "      <th>2</th>\n",
              "      <td>bopsecrets.org/rexroth/cr/1.htm</td>\n",
              "      <td>benign</td>\n",
              "    </tr>\n",
              "    <tr>\n",
              "      <th>3</th>\n",
              "      <td>http://www.garage-pirenne.be/index.php?option=...</td>\n",
              "      <td>defacement</td>\n",
              "    </tr>\n",
              "    <tr>\n",
              "      <th>4</th>\n",
              "      <td>http://adventure-nicaragua.net/index.php?optio...</td>\n",
              "      <td>defacement</td>\n",
              "    </tr>\n",
              "  </tbody>\n",
              "</table>\n",
              "</div>\n",
              "      <button class=\"colab-df-convert\" onclick=\"convertToInteractive('df-dff2ea76-ecc4-43d2-979d-7868441354be')\"\n",
              "              title=\"Convert this dataframe to an interactive table.\"\n",
              "              style=\"display:none;\">\n",
              "        \n",
              "  <svg xmlns=\"http://www.w3.org/2000/svg\" height=\"24px\"viewBox=\"0 0 24 24\"\n",
              "       width=\"24px\">\n",
              "    <path d=\"M0 0h24v24H0V0z\" fill=\"none\"/>\n",
              "    <path d=\"M18.56 5.44l.94 2.06.94-2.06 2.06-.94-2.06-.94-.94-2.06-.94 2.06-2.06.94zm-11 1L8.5 8.5l.94-2.06 2.06-.94-2.06-.94L8.5 2.5l-.94 2.06-2.06.94zm10 10l.94 2.06.94-2.06 2.06-.94-2.06-.94-.94-2.06-.94 2.06-2.06.94z\"/><path d=\"M17.41 7.96l-1.37-1.37c-.4-.4-.92-.59-1.43-.59-.52 0-1.04.2-1.43.59L10.3 9.45l-7.72 7.72c-.78.78-.78 2.05 0 2.83L4 21.41c.39.39.9.59 1.41.59.51 0 1.02-.2 1.41-.59l7.78-7.78 2.81-2.81c.8-.78.8-2.07 0-2.86zM5.41 20L4 18.59l7.72-7.72 1.47 1.35L5.41 20z\"/>\n",
              "  </svg>\n",
              "      </button>\n",
              "      \n",
              "  <style>\n",
              "    .colab-df-container {\n",
              "      display:flex;\n",
              "      flex-wrap:wrap;\n",
              "      gap: 12px;\n",
              "    }\n",
              "\n",
              "    .colab-df-convert {\n",
              "      background-color: #E8F0FE;\n",
              "      border: none;\n",
              "      border-radius: 50%;\n",
              "      cursor: pointer;\n",
              "      display: none;\n",
              "      fill: #1967D2;\n",
              "      height: 32px;\n",
              "      padding: 0 0 0 0;\n",
              "      width: 32px;\n",
              "    }\n",
              "\n",
              "    .colab-df-convert:hover {\n",
              "      background-color: #E2EBFA;\n",
              "      box-shadow: 0px 1px 2px rgba(60, 64, 67, 0.3), 0px 1px 3px 1px rgba(60, 64, 67, 0.15);\n",
              "      fill: #174EA6;\n",
              "    }\n",
              "\n",
              "    [theme=dark] .colab-df-convert {\n",
              "      background-color: #3B4455;\n",
              "      fill: #D2E3FC;\n",
              "    }\n",
              "\n",
              "    [theme=dark] .colab-df-convert:hover {\n",
              "      background-color: #434B5C;\n",
              "      box-shadow: 0px 1px 3px 1px rgba(0, 0, 0, 0.15);\n",
              "      filter: drop-shadow(0px 1px 2px rgba(0, 0, 0, 0.3));\n",
              "      fill: #FFFFFF;\n",
              "    }\n",
              "  </style>\n",
              "\n",
              "      <script>\n",
              "        const buttonEl =\n",
              "          document.querySelector('#df-dff2ea76-ecc4-43d2-979d-7868441354be button.colab-df-convert');\n",
              "        buttonEl.style.display =\n",
              "          google.colab.kernel.accessAllowed ? 'block' : 'none';\n",
              "\n",
              "        async function convertToInteractive(key) {\n",
              "          const element = document.querySelector('#df-dff2ea76-ecc4-43d2-979d-7868441354be');\n",
              "          const dataTable =\n",
              "            await google.colab.kernel.invokeFunction('convertToInteractive',\n",
              "                                                     [key], {});\n",
              "          if (!dataTable) return;\n",
              "\n",
              "          const docLinkHtml = 'Like what you see? Visit the ' +\n",
              "            '<a target=\"_blank\" href=https://colab.research.google.com/notebooks/data_table.ipynb>data table notebook</a>'\n",
              "            + ' to learn more about interactive tables.';\n",
              "          element.innerHTML = '';\n",
              "          dataTable['output_type'] = 'display_data';\n",
              "          await google.colab.output.renderOutput(dataTable, element);\n",
              "          const docLink = document.createElement('div');\n",
              "          docLink.innerHTML = docLinkHtml;\n",
              "          element.appendChild(docLink);\n",
              "        }\n",
              "      </script>\n",
              "    </div>\n",
              "  </div>\n",
              "  "
            ]
          },
          "metadata": {},
          "execution_count": 4
        }
      ],
      "source": [
        "# Now that colab is allowed to access drive, we can access sharable link\n",
        "link = \"https://drive.google.com/file/d/1n8D6UsEORc4xn6TE_HbeBzGD7V8p2NWT/view?usp=share_link\"\n",
        "\n",
        "# Regular expression to filter the url for the file id of the shareable link\n",
        "file_id = re.search(\"[https]*:\\/{2}[a-z]+.[a-z]+.[a-z]+\\/file\\/d\\/(.*)\\/\", link).group(1)\n",
        "\n",
        "# Temporarily store the csv file in the colab session\n",
        "csv_file = drive.CreateFile({\"id\":file_id})\n",
        "csv_file.GetContentFile(\"malicious_phish.csv\") # now we don't need to manually import every time\n",
        "\n",
        "# Read csv file to dataframe\n",
        "df = pd.read_csv(\"malicious_phish.csv\")\n",
        "df.head()"
      ]
    },
    {
      "cell_type": "markdown",
      "metadata": {
        "id": "NNxKr8KMX3v6"
      },
      "source": [
        "## Step 2: Gain understanding of the data"
      ]
    },
    {
      "cell_type": "code",
      "execution_count": null,
      "metadata": {
        "colab": {
          "base_uri": "https://localhost:8080/"
        },
        "id": "kblcidc-awud",
        "outputId": "6a3d3812-cba2-4f29-f3d2-36f9af0e7c8d"
      },
      "outputs": [
        {
          "output_type": "stream",
          "name": "stdout",
          "text": [
            "<class 'pandas.core.frame.DataFrame'>\n",
            "RangeIndex: 651191 entries, 0 to 651190\n",
            "Data columns (total 2 columns):\n",
            " #   Column  Non-Null Count   Dtype \n",
            "---  ------  --------------   ----- \n",
            " 0   url     651191 non-null  object\n",
            " 1   type    651191 non-null  object\n",
            "dtypes: object(2)\n",
            "memory usage: 9.9+ MB\n"
          ]
        }
      ],
      "source": [
        "# Initial information about the dataset, i.e. columns number, column name, count, and dtype\n",
        "df.info()"
      ]
    },
    {
      "cell_type": "code",
      "execution_count": null,
      "metadata": {
        "colab": {
          "base_uri": "https://localhost:8080/"
        },
        "id": "GnD0suUHdUEz",
        "outputId": "eba5ef87-1374-4319-8d0f-0ef145ab602b"
      },
      "outputs": [
        {
          "output_type": "execute_result",
          "data": {
            "text/plain": [
              "url     0\n",
              "type    0\n",
              "dtype: int64"
            ]
          },
          "metadata": {},
          "execution_count": 6
        }
      ],
      "source": [
        "# How many null values are present\n",
        "df.isnull().sum()"
      ]
    },
    {
      "cell_type": "code",
      "execution_count": null,
      "metadata": {
        "colab": {
          "base_uri": "https://localhost:8080/"
        },
        "id": "bYqUKh-IZ3U6",
        "outputId": "f1b1dcd2-f31c-4158-9779-ab4bcac3b8e3"
      },
      "outputs": [
        {
          "output_type": "execute_result",
          "data": {
            "text/plain": [
              "benign        428103\n",
              "defacement     96457\n",
              "phishing       94111\n",
              "malware        32520\n",
              "Name: type, dtype: int64"
            ]
          },
          "metadata": {},
          "execution_count": 7
        }
      ],
      "source": [
        "# Store and display value counts\n",
        "value_counts = df.type.value_counts()\n",
        "value_counts"
      ]
    },
    {
      "cell_type": "code",
      "execution_count": null,
      "metadata": {
        "colab": {
          "base_uri": "https://localhost:8080/",
          "height": 206
        },
        "id": "hldAuGX3VG1i",
        "outputId": "8faf0488-20e9-48f6-84b9-0bbb8e4b9f2b"
      },
      "outputs": [
        {
          "output_type": "execute_result",
          "data": {
            "text/plain": [
              "                                                 url        type  target\n",
              "0                                   br-icloud.com.br    phishing       2\n",
              "1                mp3raid.com/music/krizz_kaliko.html      benign       0\n",
              "2                    bopsecrets.org/rexroth/cr/1.htm      benign       0\n",
              "3  http://www.garage-pirenne.be/index.php?option=...  defacement       1\n",
              "4  http://adventure-nicaragua.net/index.php?optio...  defacement       1"
            ],
            "text/html": [
              "\n",
              "  <div id=\"df-18406251-0735-4e6f-b825-6bb565e5c729\">\n",
              "    <div class=\"colab-df-container\">\n",
              "      <div>\n",
              "<style scoped>\n",
              "    .dataframe tbody tr th:only-of-type {\n",
              "        vertical-align: middle;\n",
              "    }\n",
              "\n",
              "    .dataframe tbody tr th {\n",
              "        vertical-align: top;\n",
              "    }\n",
              "\n",
              "    .dataframe thead th {\n",
              "        text-align: right;\n",
              "    }\n",
              "</style>\n",
              "<table border=\"1\" class=\"dataframe\">\n",
              "  <thead>\n",
              "    <tr style=\"text-align: right;\">\n",
              "      <th></th>\n",
              "      <th>url</th>\n",
              "      <th>type</th>\n",
              "      <th>target</th>\n",
              "    </tr>\n",
              "  </thead>\n",
              "  <tbody>\n",
              "    <tr>\n",
              "      <th>0</th>\n",
              "      <td>br-icloud.com.br</td>\n",
              "      <td>phishing</td>\n",
              "      <td>2</td>\n",
              "    </tr>\n",
              "    <tr>\n",
              "      <th>1</th>\n",
              "      <td>mp3raid.com/music/krizz_kaliko.html</td>\n",
              "      <td>benign</td>\n",
              "      <td>0</td>\n",
              "    </tr>\n",
              "    <tr>\n",
              "      <th>2</th>\n",
              "      <td>bopsecrets.org/rexroth/cr/1.htm</td>\n",
              "      <td>benign</td>\n",
              "      <td>0</td>\n",
              "    </tr>\n",
              "    <tr>\n",
              "      <th>3</th>\n",
              "      <td>http://www.garage-pirenne.be/index.php?option=...</td>\n",
              "      <td>defacement</td>\n",
              "      <td>1</td>\n",
              "    </tr>\n",
              "    <tr>\n",
              "      <th>4</th>\n",
              "      <td>http://adventure-nicaragua.net/index.php?optio...</td>\n",
              "      <td>defacement</td>\n",
              "      <td>1</td>\n",
              "    </tr>\n",
              "  </tbody>\n",
              "</table>\n",
              "</div>\n",
              "      <button class=\"colab-df-convert\" onclick=\"convertToInteractive('df-18406251-0735-4e6f-b825-6bb565e5c729')\"\n",
              "              title=\"Convert this dataframe to an interactive table.\"\n",
              "              style=\"display:none;\">\n",
              "        \n",
              "  <svg xmlns=\"http://www.w3.org/2000/svg\" height=\"24px\"viewBox=\"0 0 24 24\"\n",
              "       width=\"24px\">\n",
              "    <path d=\"M0 0h24v24H0V0z\" fill=\"none\"/>\n",
              "    <path d=\"M18.56 5.44l.94 2.06.94-2.06 2.06-.94-2.06-.94-.94-2.06-.94 2.06-2.06.94zm-11 1L8.5 8.5l.94-2.06 2.06-.94-2.06-.94L8.5 2.5l-.94 2.06-2.06.94zm10 10l.94 2.06.94-2.06 2.06-.94-2.06-.94-.94-2.06-.94 2.06-2.06.94z\"/><path d=\"M17.41 7.96l-1.37-1.37c-.4-.4-.92-.59-1.43-.59-.52 0-1.04.2-1.43.59L10.3 9.45l-7.72 7.72c-.78.78-.78 2.05 0 2.83L4 21.41c.39.39.9.59 1.41.59.51 0 1.02-.2 1.41-.59l7.78-7.78 2.81-2.81c.8-.78.8-2.07 0-2.86zM5.41 20L4 18.59l7.72-7.72 1.47 1.35L5.41 20z\"/>\n",
              "  </svg>\n",
              "      </button>\n",
              "      \n",
              "  <style>\n",
              "    .colab-df-container {\n",
              "      display:flex;\n",
              "      flex-wrap:wrap;\n",
              "      gap: 12px;\n",
              "    }\n",
              "\n",
              "    .colab-df-convert {\n",
              "      background-color: #E8F0FE;\n",
              "      border: none;\n",
              "      border-radius: 50%;\n",
              "      cursor: pointer;\n",
              "      display: none;\n",
              "      fill: #1967D2;\n",
              "      height: 32px;\n",
              "      padding: 0 0 0 0;\n",
              "      width: 32px;\n",
              "    }\n",
              "\n",
              "    .colab-df-convert:hover {\n",
              "      background-color: #E2EBFA;\n",
              "      box-shadow: 0px 1px 2px rgba(60, 64, 67, 0.3), 0px 1px 3px 1px rgba(60, 64, 67, 0.15);\n",
              "      fill: #174EA6;\n",
              "    }\n",
              "\n",
              "    [theme=dark] .colab-df-convert {\n",
              "      background-color: #3B4455;\n",
              "      fill: #D2E3FC;\n",
              "    }\n",
              "\n",
              "    [theme=dark] .colab-df-convert:hover {\n",
              "      background-color: #434B5C;\n",
              "      box-shadow: 0px 1px 3px 1px rgba(0, 0, 0, 0.15);\n",
              "      filter: drop-shadow(0px 1px 2px rgba(0, 0, 0, 0.3));\n",
              "      fill: #FFFFFF;\n",
              "    }\n",
              "  </style>\n",
              "\n",
              "      <script>\n",
              "        const buttonEl =\n",
              "          document.querySelector('#df-18406251-0735-4e6f-b825-6bb565e5c729 button.colab-df-convert');\n",
              "        buttonEl.style.display =\n",
              "          google.colab.kernel.accessAllowed ? 'block' : 'none';\n",
              "\n",
              "        async function convertToInteractive(key) {\n",
              "          const element = document.querySelector('#df-18406251-0735-4e6f-b825-6bb565e5c729');\n",
              "          const dataTable =\n",
              "            await google.colab.kernel.invokeFunction('convertToInteractive',\n",
              "                                                     [key], {});\n",
              "          if (!dataTable) return;\n",
              "\n",
              "          const docLinkHtml = 'Like what you see? Visit the ' +\n",
              "            '<a target=\"_blank\" href=https://colab.research.google.com/notebooks/data_table.ipynb>data table notebook</a>'\n",
              "            + ' to learn more about interactive tables.';\n",
              "          element.innerHTML = '';\n",
              "          dataTable['output_type'] = 'display_data';\n",
              "          await google.colab.output.renderOutput(dataTable, element);\n",
              "          const docLink = document.createElement('div');\n",
              "          docLink.innerHTML = docLinkHtml;\n",
              "          element.appendChild(docLink);\n",
              "        }\n",
              "      </script>\n",
              "    </div>\n",
              "  </div>\n",
              "  "
            ]
          },
          "metadata": {},
          "execution_count": 8
        }
      ],
      "source": [
        "# Map every category found in df[\"type\"] to numerical categorical variable\n",
        "numerical_categories = {}\n",
        "for index, category in enumerate(value_counts.index):\n",
        "    numerical_categories[f\"{category}\"] = index\n",
        "\n",
        "# Create new feature with target variable corresponding to numerical_categories\n",
        "df[\"target\"] = [numerical_categories[category] for category in df[\"type\"]]\n",
        "df.head()"
      ]
    },
    {
      "cell_type": "code",
      "execution_count": null,
      "metadata": {
        "colab": {
          "base_uri": "https://localhost:8080/",
          "height": 348
        },
        "id": "g_qxqnKTdp2k",
        "outputId": "35a644bd-00e5-4db9-d8ca-907e5c7bf83e"
      },
      "outputs": [
        {
          "output_type": "display_data",
          "data": {
            "text/plain": [
              "<Figure size 360x360 with 1 Axes>"
            ],
            "image/png": "[encoded data removed]"
          },
          "metadata": {}
        }
      ],
      "source": [
        "# Nice little color palette, we can use throughout the paper\n",
        "colors = sns.color_palette(\"pastel\")[0:5]\n",
        "\n",
        "# Donut chart for the target variable ratios\n",
        "plt.figure(figsize=(5, 5))\n",
        "\n",
        "centre_circle = plt.Circle((0,0),0.70,fc='white')\n",
        "fig = plt.gcf()\n",
        "fig.gca().add_artist(centre_circle)\n",
        "\n",
        "plt.pie(value_counts, labels=value_counts.index, colors=colors, autopct=\"%.0f%%\")\n",
        "plt.tight_layout()\n",
        "plt.show()"
      ]
    },
    {
      "cell_type": "code",
      "execution_count": null,
      "metadata": {
        "colab": {
          "base_uri": "https://localhost:8080/",
          "height": 296
        },
        "id": "sy1aocDgOCDp",
        "outputId": "acef213c-4711-46e1-e464-ea7d0f5ce99f"
      },
      "outputs": [
        {
          "output_type": "execute_result",
          "data": {
            "text/plain": [
              "Text(0, 0.5, 'count')"
            ]
          },
          "metadata": {},
          "execution_count": 10
        },
        {
          "output_type": "display_data",
          "data": {
            "text/plain": [
              "<Figure size 432x288 with 1 Axes>"
            ],
            "image/png": "[encoded data removed]"
          },
          "metadata": {
            "needs_background": "light"
          }
        }
      ],
      "source": [
        "# Supplied barplot visualisation\n",
        "sns.barplot(x=value_counts.index, y=value_counts, palette=colors)\n",
        "plt.xlabel(\"target\")\n",
        "plt.ylabel(\"count\")"
      ]
    },
    {
      "cell_type": "markdown",
      "metadata": {
        "id": "l7tMopblP7Jd"
      },
      "source": [
        "## Step 3: Data preprocessing and feature engineering"
      ]
    },
    {
      "cell_type": "code",
      "execution_count": null,
      "metadata": {
        "id": "gsP_z61HSnn3"
      },
      "outputs": [],
      "source": [
        "# Function to map new feature based on whether ip address in url\n",
        "# courtesy of https://www.kaggle.com/code/jingyanshang/url-s-feature-analysis/notebook\n",
        "def url_is_ip_address(url: str) -> int:\n",
        "    match = re.search(\n",
        "            '(([01]?\\\\d\\\\d?|2[0-4]\\\\d|25[0-5])\\\\.([01]?\\\\d\\\\d?|2[0-4]\\\\d|25[0-5])\\\\.([01]?\\\\d\\\\d?|2[0-4]\\\\d|25[0-5])\\\\.'\n",
        "            '([01]?\\\\d\\\\d?|2[0-4]\\\\d|25[0-5])\\\\/)|'  # IPv4\n",
        "            '(([01]?\\\\d\\\\d?|2[0-4]\\\\d|25[0-5])\\\\.([01]?\\\\d\\\\d?|2[0-4]\\\\d|25[0-5])\\\\.([01]?\\\\d\\\\d?|2[0-4]\\\\d|25[0-5])\\\\.'\n",
        "            '([01]?\\\\d\\\\d?|2[0-4]\\\\d|25[0-5])\\\\/)|'  # IPv4 with port\n",
        "            '((0x[0-9a-fA-F]{1,2})\\\\.(0x[0-9a-fA-F]{1,2})\\\\.(0x[0-9a-fA-F]{1,2})\\\\.(0x[0-9a-fA-F]{1,2})\\\\/)' # IPv4 in hexadecimal\n",
        "            '(?:[a-fA-F0-9]{1,4}:){7}[a-fA-F0-9]{1,4}|'\n",
        "            '([0-9]+(?:\\.[0-9]+){3}:[0-9]+)|'\n",
        "            '((?:(?:\\d|[01]?\\d\\d|2[0-4]\\d|25[0-5])\\.){3}(?:25[0-5]|2[0-4]\\d|[01]?\\d\\d|\\d)(?:\\/\\d{1,2})?)', url)  # Ipv6\n",
        "\n",
        "    if match:\n",
        "        return 1\n",
        "    else:\n",
        "        return 0\n",
        "\n",
        "# Function to map new feature based on http[s] protocol\n",
        "def https_secured(url: str) -> int:\n",
        "    try:\n",
        "        protocol = re.search(\"^(http|https)://\", url)\n",
        "\n",
        "        if protocol == None:\n",
        "            return 0\n",
        "        elif protocol.group(1) == \"https\":\n",
        "            return 1\n",
        "        else:\n",
        "            return 0\n",
        "    except Exception as err:\n",
        "        print(f\"[Error]: {err}\")\n",
        "        return 0\n",
        "\n",
        "def count_digits(url: str) -> int:\n",
        "    digits = 0\n",
        "    for x in url:\n",
        "        if x.isnumeric():\n",
        "            digits += 1\n",
        "    return digits\n",
        "\n",
        "def count_letters(url: str) -> int:\n",
        "    letters = 0\n",
        "    for x in url:\n",
        "        if x.isalpha():\n",
        "            letters += 1\n",
        "    \n",
        "    return letters"
      ]
    },
    {
      "cell_type": "code",
      "execution_count": null,
      "metadata": {
        "id": "_hFFV9LwLS0l"
      },
      "outputs": [],
      "source": [
        "def process_tld(url: str, fix_protos: bool = False) -> Tuple[str, str, str, str]:\n",
        "    res = get_tld(url, as_object=True, fail_silently=False, fix_protocol=fix_protos)\n",
        "\n",
        "    subdomain = res.subdomain\n",
        "    domain = res.domain\n",
        "    tld = res.tld\n",
        "    fld = res.fld\n",
        "\n",
        "    return subdomain, domain, tld, fld\n",
        "\n",
        "def process_url_with_tld(row: pd.Series) -> Tuple[str, str, str, str]:\n",
        "    try:\n",
        "        if row[\"is_ip\"] == 0:\n",
        "            return process_tld(row[\"url\"], fix_protos=True)\n",
        "\n",
        "        else:\n",
        "            subdomain = domain = tld = fld = None\n",
        "\n",
        "            return subdomain, domain, tld, fld\n",
        "    except Exception as err:\n",
        "        return None, None, None, None\n",
        "\n",
        "def contains_shortening_service(url: str) -> int:\n",
        "    match = re.search('bit\\.ly|goo\\.gl|shorte\\.st|go2l\\.ink|x\\.co|ow\\.ly|t\\.co|tinyurl|tr\\.im|is\\.gd|cli\\.gs|'\n",
        "                      'yfrog\\.com|migre\\.me|ff\\.im|tiny\\.cc|url4\\.eu|twit\\.ac|su\\.pr|twurl\\.nl|snipurl\\.com|'\n",
        "                      'short\\.to|BudURL\\.com|ping\\.fm|post\\.ly|Just\\.as|bkite\\.com|snipr\\.com|fic\\.kr|loopt\\.us|'\n",
        "                      'doiop\\.com|short\\.ie|kl\\.am|wp\\.me|rubyurl\\.com|om\\.ly|to\\.ly|bit\\.do|t\\.co|lnkd\\.in|'\n",
        "                      'db\\.tt|qr\\.ae|adf\\.ly|goo\\.gl|bitly\\.com|cur\\.lv|tinyurl\\.com|ow\\.ly|bit\\.ly|ity\\.im|'\n",
        "                      'q\\.gs|is\\.gd|po\\.st|bc\\.vc|twitthis\\.com|u\\.to|j\\.mp|buzurl\\.com|cutt\\.us|u\\.bb|yourls\\.org|'\n",
        "                      'x\\.co|prettylinkpro\\.com|scrnch\\.me|filoops\\.info|vzturl\\.com|qr\\.net|1url\\.com|tweez\\.me|v\\.gd|'\n",
        "                      'tr\\.im|link\\.zip\\.net',\n",
        "                      url)\n",
        "    \n",
        "    if match:\n",
        "        return 1\n",
        "    else:\n",
        "        return 0\n",
        "\n",
        "# Function for returning length, even if text is None\n",
        "def count_len(text: str) -> int:\n",
        "    if text == None:\n",
        "        return 0\n",
        "    else:\n",
        "        return len(text)"
      ]
    },
    {
      "cell_type": "code",
      "execution_count": null,
      "metadata": {
        "colab": {
          "base_uri": "https://localhost:8080/",
          "height": 369
        },
        "id": "KTC_Lxzwlmn0",
        "outputId": "f5479514-4148-4113-9176-febd5baf6f72"
      },
      "outputs": [
        {
          "output_type": "stream",
          "name": "stdout",
          "text": [
            "time elapsed: 66.36 seconds\n"
          ]
        },
        {
          "output_type": "execute_result",
          "data": {
            "text/plain": [
              "                                                 url        type  target  \\\n",
              "0                                   br-icloud.com.br    phishing       2   \n",
              "1                mp3raid.com/music/krizz_kaliko.html      benign       0   \n",
              "2                    bopsecrets.org/rexroth/cr/1.htm      benign       0   \n",
              "3  http://www.garage-pirenne.be/index.php?option=...  defacement       1   \n",
              "4  http://adventure-nicaragua.net/index.php?optio...  defacement       1   \n",
              "\n",
              "   is_ip  is_https_secured  url_length subdomain               domain     tld  \\\n",
              "0      0                 0          16                      br-icloud  com.br   \n",
              "1      0                 0          35                        mp3raid     com   \n",
              "2      0                 0          31                     bopsecrets     org   \n",
              "3      0                 0          88       www       garage-pirenne      be   \n",
              "4      0                 0         235            adventure-nicaragua     net   \n",
              "\n",
              "                       fld  ...  #  %  +  $  !  *  ,  //  contains_shortening  \\\n",
              "0         br-icloud.com.br  ...  0  0  0  0  0  0  0   0                    0   \n",
              "1              mp3raid.com  ...  0  0  0  0  0  0  0   0                    0   \n",
              "2           bopsecrets.org  ...  0  0  0  0  0  0  0   0                    0   \n",
              "3        garage-pirenne.be  ...  0  0  0  0  0  0  0   1                    0   \n",
              "4  adventure-nicaragua.net  ...  0  0  0  0  0  0  0   1                    0   \n",
              "\n",
              "   special_count  \n",
              "0              3  \n",
              "1              2  \n",
              "2              2  \n",
              "3             10  \n",
              "4              8  \n",
              "\n",
              "[5 rows x 30 columns]"
            ],
            "text/html": [
              "\n",
              "  <div id=\"df-8d4432d8-5f4f-403f-a1b0-1ed51c3ddee9\">\n",
              "    <div class=\"colab-df-container\">\n",
              "      <div>\n",
              "<style scoped>\n",
              "    .dataframe tbody tr th:only-of-type {\n",
              "        vertical-align: middle;\n",
              "    }\n",
              "\n",
              "    .dataframe tbody tr th {\n",
              "        vertical-align: top;\n",
              "    }\n",
              "\n",
              "    .dataframe thead th {\n",
              "        text-align: right;\n",
              "    }\n",
              "</style>\n",
              "<table border=\"1\" class=\"dataframe\">\n",
              "  <thead>\n",
              "    <tr style=\"text-align: right;\">\n",
              "      <th></th>\n",
              "      <th>url</th>\n",
              "      <th>type</th>\n",
              "      <th>target</th>\n",
              "      <th>is_ip</th>\n",
              "      <th>is_https_secured</th>\n",
              "      <th>url_length</th>\n",
              "      <th>subdomain</th>\n",
              "      <th>domain</th>\n",
              "      <th>tld</th>\n",
              "      <th>fld</th>\n",
              "      <th>...</th>\n",
              "      <th>#</th>\n",
              "      <th>%</th>\n",
              "      <th>+</th>\n",
              "      <th>$</th>\n",
              "      <th>!</th>\n",
              "      <th>*</th>\n",
              "      <th>,</th>\n",
              "      <th>//</th>\n",
              "      <th>contains_shortening</th>\n",
              "      <th>special_count</th>\n",
              "    </tr>\n",
              "  </thead>\n",
              "  <tbody>\n",
              "    <tr>\n",
              "      <th>0</th>\n",
              "      <td>br-icloud.com.br</td>\n",
              "      <td>phishing</td>\n",
              "      <td>2</td>\n",
              "      <td>0</td>\n",
              "      <td>0</td>\n",
              "      <td>16</td>\n",
              "      <td></td>\n",
              "      <td>br-icloud</td>\n",
              "      <td>com.br</td>\n",
              "      <td>br-icloud.com.br</td>\n",
              "      <td>...</td>\n",
              "      <td>0</td>\n",
              "      <td>0</td>\n",
              "      <td>0</td>\n",
              "      <td>0</td>\n",
              "      <td>0</td>\n",
              "      <td>0</td>\n",
              "      <td>0</td>\n",
              "      <td>0</td>\n",
              "      <td>0</td>\n",
              "      <td>3</td>\n",
              "    </tr>\n",
              "    <tr>\n",
              "      <th>1</th>\n",
              "      <td>mp3raid.com/music/krizz_kaliko.html</td>\n",
              "      <td>benign</td>\n",
              "      <td>0</td>\n",
              "      <td>0</td>\n",
              "      <td>0</td>\n",
              "      <td>35</td>\n",
              "      <td></td>\n",
              "      <td>mp3raid</td>\n",
              "      <td>com</td>\n",
              "      <td>mp3raid.com</td>\n",
              "      <td>...</td>\n",
              "      <td>0</td>\n",
              "      <td>0</td>\n",
              "      <td>0</td>\n",
              "      <td>0</td>\n",
              "      <td>0</td>\n",
              "      <td>0</td>\n",
              "      <td>0</td>\n",
              "      <td>0</td>\n",
              "      <td>0</td>\n",
              "      <td>2</td>\n",
              "    </tr>\n",
              "    <tr>\n",
              "      <th>2</th>\n",
              "      <td>bopsecrets.org/rexroth/cr/1.htm</td>\n",
              "      <td>benign</td>\n",
              "      <td>0</td>\n",
              "      <td>0</td>\n",
              "      <td>0</td>\n",
              "      <td>31</td>\n",
              "      <td></td>\n",
              "      <td>bopsecrets</td>\n",
              "      <td>org</td>\n",
              "      <td>bopsecrets.org</td>\n",
              "      <td>...</td>\n",
              "      <td>0</td>\n",
              "      <td>0</td>\n",
              "      <td>0</td>\n",
              "      <td>0</td>\n",
              "      <td>0</td>\n",
              "      <td>0</td>\n",
              "      <td>0</td>\n",
              "      <td>0</td>\n",
              "      <td>0</td>\n",
              "      <td>2</td>\n",
              "    </tr>\n",
              "    <tr>\n",
              "      <th>3</th>\n",
              "      <td>http://www.garage-pirenne.be/index.php?option=...</td>\n",
              "      <td>defacement</td>\n",
              "      <td>1</td>\n",
              "      <td>0</td>\n",
              "      <td>0</td>\n",
              "      <td>88</td>\n",
              "      <td>www</td>\n",
              "      <td>garage-pirenne</td>\n",
              "      <td>be</td>\n",
              "      <td>garage-pirenne.be</td>\n",
              "      <td>...</td>\n",
              "      <td>0</td>\n",
              "      <td>0</td>\n",
              "      <td>0</td>\n",
              "      <td>0</td>\n",
              "      <td>0</td>\n",
              "      <td>0</td>\n",
              "      <td>0</td>\n",
              "      <td>1</td>\n",
              "      <td>0</td>\n",
              "      <td>10</td>\n",
              "    </tr>\n",
              "    <tr>\n",
              "      <th>4</th>\n",
              "      <td>http://adventure-nicaragua.net/index.php?optio...</td>\n",
              "      <td>defacement</td>\n",
              "      <td>1</td>\n",
              "      <td>0</td>\n",
              "      <td>0</td>\n",
              "      <td>235</td>\n",
              "      <td></td>\n",
              "      <td>adventure-nicaragua</td>\n",
              "      <td>net</td>\n",
              "      <td>adventure-nicaragua.net</td>\n",
              "      <td>...</td>\n",
              "      <td>0</td>\n",
              "      <td>0</td>\n",
              "      <td>0</td>\n",
              "      <td>0</td>\n",
              "      <td>0</td>\n",
              "      <td>0</td>\n",
              "      <td>0</td>\n",
              "      <td>1</td>\n",
              "      <td>0</td>\n",
              "      <td>8</td>\n",
              "    </tr>\n",
              "  </tbody>\n",
              "</table>\n",
              "<p>5 rows × 30 columns</p>\n",
              "</div>\n",
              "      <button class=\"colab-df-convert\" onclick=\"convertToInteractive('df-8d4432d8-5f4f-403f-a1b0-1ed51c3ddee9')\"\n",
              "              title=\"Convert this dataframe to an interactive table.\"\n",
              "              style=\"display:none;\">\n",
              "        \n",
              "  <svg xmlns=\"http://www.w3.org/2000/svg\" height=\"24px\"viewBox=\"0 0 24 24\"\n",
              "       width=\"24px\">\n",
              "    <path d=\"M0 0h24v24H0V0z\" fill=\"none\"/>\n",
              "    <path d=\"M18.56 5.44l.94 2.06.94-2.06 2.06-.94-2.06-.94-.94-2.06-.94 2.06-2.06.94zm-11 1L8.5 8.5l.94-2.06 2.06-.94-2.06-.94L8.5 2.5l-.94 2.06-2.06.94zm10 10l.94 2.06.94-2.06 2.06-.94-2.06-.94-.94-2.06-.94 2.06-2.06.94z\"/><path d=\"M17.41 7.96l-1.37-1.37c-.4-.4-.92-.59-1.43-.59-.52 0-1.04.2-1.43.59L10.3 9.45l-7.72 7.72c-.78.78-.78 2.05 0 2.83L4 21.41c.39.39.9.59 1.41.59.51 0 1.02-.2 1.41-.59l7.78-7.78 2.81-2.81c.8-.78.8-2.07 0-2.86zM5.41 20L4 18.59l7.72-7.72 1.47 1.35L5.41 20z\"/>\n",
              "  </svg>\n",
              "      </button>\n",
              "      \n",
              "  <style>\n",
              "    .colab-df-container {\n",
              "      display:flex;\n",
              "      flex-wrap:wrap;\n",
              "      gap: 12px;\n",
              "    }\n",
              "\n",
              "    .colab-df-convert {\n",
              "      background-color: #E8F0FE;\n",
              "      border: none;\n",
              "      border-radius: 50%;\n",
              "      cursor: pointer;\n",
              "      display: none;\n",
              "      fill: #1967D2;\n",
              "      height: 32px;\n",
              "      padding: 0 0 0 0;\n",
              "      width: 32px;\n",
              "    }\n",
              "\n",
              "    .colab-df-convert:hover {\n",
              "      background-color: #E2EBFA;\n",
              "      box-shadow: 0px 1px 2px rgba(60, 64, 67, 0.3), 0px 1px 3px 1px rgba(60, 64, 67, 0.15);\n",
              "      fill: #174EA6;\n",
              "    }\n",
              "\n",
              "    [theme=dark] .colab-df-convert {\n",
              "      background-color: #3B4455;\n",
              "      fill: #D2E3FC;\n",
              "    }\n",
              "\n",
              "    [theme=dark] .colab-df-convert:hover {\n",
              "      background-color: #434B5C;\n",
              "      box-shadow: 0px 1px 3px 1px rgba(0, 0, 0, 0.15);\n",
              "      filter: drop-shadow(0px 1px 2px rgba(0, 0, 0, 0.3));\n",
              "      fill: #FFFFFF;\n",
              "    }\n",
              "  </style>\n",
              "\n",
              "      <script>\n",
              "        const buttonEl =\n",
              "          document.querySelector('#df-8d4432d8-5f4f-403f-a1b0-1ed51c3ddee9 button.colab-df-convert');\n",
              "        buttonEl.style.display =\n",
              "          google.colab.kernel.accessAllowed ? 'block' : 'none';\n",
              "\n",
              "        async function convertToInteractive(key) {\n",
              "          const element = document.querySelector('#df-8d4432d8-5f4f-403f-a1b0-1ed51c3ddee9');\n",
              "          const dataTable =\n",
              "            await google.colab.kernel.invokeFunction('convertToInteractive',\n",
              "                                                     [key], {});\n",
              "          if (!dataTable) return;\n",
              "\n",
              "          const docLinkHtml = 'Like what you see? Visit the ' +\n",
              "            '<a target=\"_blank\" href=https://colab.research.google.com/notebooks/data_table.ipynb>data table notebook</a>'\n",
              "            + ' to learn more about interactive tables.';\n",
              "          element.innerHTML = '';\n",
              "          dataTable['output_type'] = 'display_data';\n",
              "          await google.colab.output.renderOutput(dataTable, element);\n",
              "          const docLink = document.createElement('div');\n",
              "          docLink.innerHTML = docLinkHtml;\n",
              "          element.appendChild(docLink);\n",
              "        }\n",
              "      </script>\n",
              "    </div>\n",
              "  </div>\n",
              "  "
            ]
          },
          "metadata": {},
          "execution_count": 13
        }
      ],
      "source": [
        "start = time.time()\n",
        "# For every url, check if ip address is embedded within\n",
        "df[\"is_ip\"] = df[\"url\"].apply(lambda x: url_is_ip_address(x))\n",
        "\n",
        "# For every url, check if http[s] is present and map to new feature\n",
        "df[\"is_https_secured\"] = df[\"url\"].apply(lambda x: https_secured(x))\n",
        "\n",
        "# Count numbers of characters inherent in url string\n",
        "df[\"url_length\"] = df[\"url\"].apply(lambda x: len(x))\n",
        "\n",
        "# Extract the primary domain from the url\n",
        "df[['subdomain', 'domain', 'tld', 'fld']] = df.apply(lambda x: process_url_with_tld(x), axis=1, result_type=\"expand\")\n",
        "\n",
        "\"\"\"\n",
        "All rows missing ['subdomain', 'domain', 'tld', 'fld'] (that is, because they\n",
        "are invalid) will return 0, because they don't adhere to the standard\n",
        "- most of them are likely to return 0 if the url is an ip address\n",
        "\"\"\"\n",
        "df[\"subdomain_len\"] = df[\"subdomain\"].apply(lambda x: count_len(x))\n",
        "df[\"tld_len\"] = df[\"tld\"].apply(lambda x: count_len(x))\n",
        "df[\"fld_len\"] = df[\"fld\"].apply(lambda x: count_len(x))\n",
        "\n",
        "# Count the digits in the url\n",
        "df[\"digit_count\"] = df[\"url\"].apply(lambda x: count_digits(x))\n",
        "\n",
        "# Count the letters in the url\n",
        "df[\"letter_count\"] = df[\"url\"].apply(lambda x: count_letters(x))\n",
        "\n",
        "# Count selected special characters, excluding directory seperator single slash\n",
        "special_characters = ['@','?','-','=','.','#','%','+','$','!','*',',','//']\n",
        "\n",
        "for char in special_characters:\n",
        "    df[char] = df[\"url\"].apply(lambda x: x.count(char))\n",
        "\n",
        "df[\"contains_shortening\"] = df[\"url\"].apply(lambda x: contains_shortening_service(x))\n",
        "\n",
        "# Total count of special characters in the url\n",
        "df[\"special_count\"] = df[special_characters].sum(axis=1)\n",
        "\n",
        "print(f\"time elapsed: {(time.time() - start):.2f} seconds\")\n",
        "\n",
        "df.head()"
      ]
    },
    {
      "cell_type": "code",
      "execution_count": null,
      "metadata": {
        "colab": {
          "base_uri": "https://localhost:8080/"
        },
        "id": "0HoXbJO-nypf",
        "outputId": "10a15ee0-dc9e-4bf0-caa3-f7754bb32ea0"
      },
      "outputs": [
        {
          "output_type": "execute_result",
          "data": {
            "text/plain": [
              "90"
            ]
          },
          "metadata": {},
          "execution_count": 14
        }
      ],
      "source": [
        "df[['subdomain', 'domain', 'tld', 'fld']].isna().sum()[0] - df[\"is_ip\"].value_counts()[1]"
      ]
    },
    {
      "cell_type": "code",
      "execution_count": null,
      "metadata": {
        "colab": {
          "base_uri": "https://localhost:8080/",
          "height": 586
        },
        "id": "fAefg9NaA0N5",
        "outputId": "682b69ad-911d-413c-cfee-a7c352a0f97c"
      },
      "outputs": [
        {
          "output_type": "display_data",
          "data": {
            "text/plain": [
              "<Figure size 864x720 with 2 Axes>"
            ],
            "image/png": "[encoded data removed]"
          },
          "metadata": {
            "needs_background": "light"
          }
        }
      ],
      "source": [
        "plt.figure(figsize=(12, 10))\n",
        "sns.heatmap(df.corr(), linewidths=.5, cmap=sns.color_palette(\"pastel\"), annot=True)\n",
        "plt.tight_layout()\n",
        "plt.show()"
      ]
    },
    {
      "cell_type": "code",
      "execution_count": null,
      "metadata": {
        "id": "NvbqDdsIuzPe"
      },
      "outputs": [],
      "source": [
        "# checkpoint\n",
        "df.to_csv(\"final_malicious_phish.csv\", index=False)\n",
        "\n",
        "# folder id of cybersecurity champions\n",
        "folder_id = \"1rX7uYeG-eonAp8ou1tsBw-Ccfkao1LJr\"\n",
        "\n",
        "# create empty file\n",
        "file_ = drive.CreateFile({\"parents\": [{\"kind\": \"drive#linkfilelink\", \"id\": folder_id}]})\n",
        "\n",
        "# populate empty file with new csv and upload\n",
        "# https://github.com/googlearchive/PyDrive/blob/master/examples/using_folders.py\n",
        "file_.SetContentFile(\"final_malicious_phish.csv\")\n",
        "file_.Upload()"
      ]
    },
    {
      "cell_type": "markdown",
      "metadata": {
        "id": "d7xr-mpXxFsW"
      },
      "source": [
        "## Step 4: Create X and y subsets; Create training and testing subsets"
      ]
    },
    {
      "cell_type": "code",
      "execution_count": null,
      "metadata": {
        "id": "raMxoxDo2Aue"
      },
      "outputs": [],
      "source": [
        "# method for reducing memory size of dataframe (https://www.kaggle.com/code/arjanso/reducing-dataframe-memory-size-by-65/notebook)\n",
        "def reduce_memory(df: pd.DataFrame) -> pd.DataFrame:\n",
        "    current_memory_usage = df.memory_usage().sum() / 1024 ** 2 # convert bytes to MB\n",
        "    print(f\"Memory of dataframe: {current_memory_usage} MB\\n\")\n",
        "\n",
        "    for col in df.columns:\n",
        "        if df[col].dtype != object:\n",
        "\n",
        "            print(\"**********************\")\n",
        "            print(f\"Column: {col}\")\n",
        "            print(\"----------------------\")\n",
        "            print(f\"Dtype (before): {df[col].dtype}\")\n",
        "            print(f\"Memory (before): {df[col].memory_usage() / 1024 ** 2:.2f} MB\")\n",
        "            print(\"----------------------\")\n",
        "\n",
        "            is_int = False\n",
        "\n",
        "            min, max = df[col].min(), df[col].max()\n",
        "            \n",
        "            to_int = df[col].fillna(0).astype(np.int64)\n",
        "            res = (df[col] - to_int)\n",
        "            res = res.sum()\n",
        "            if res > -0.01 and res < 0.01:\n",
        "                is_int = True\n",
        "\n",
        "            if is_int:\n",
        "                if min >= 0:\n",
        "                    if max < 255:\n",
        "                        df[col] = df[col].astype(np.uint8)\n",
        "                    elif max < 65535:\n",
        "                        df[col] = df[col].astype(np.uint16)\n",
        "                    elif max < 4294967295:\n",
        "                        df[col] = df[col].astype(np.uint32)\n",
        "                    else:\n",
        "                        df[col] = df[col].astype(np.uint64)\n",
        "                else:\n",
        "                    if min > np.iinfo(np.int8).min and max < np.iinfo(np.int8).max:\n",
        "                        df[col] = df[col].astype(np.int8)\n",
        "                    elif min > np.iinfo(np.int16).min and max < np.iinfo(np.int16).max:\n",
        "                        df[col] = df[col].astype(np.int16)\n",
        "                    elif min > np.iinfo(np.int32).min and max < np.iinfo(np.int32).max:\n",
        "                        df[col] = df[col].astype(np.int32)\n",
        "                    elif min > np.iinfo(np.int64).min and max < np.iinfo(np.int64).max:\n",
        "                        df[col] = df[col].astype(np.int64)\n",
        "            else:\n",
        "                df[col] = df[col].astype(np.float32)\n",
        "\n",
        "            print(f\"Dtype (after): {df[col].dtype}\")\n",
        "            print(f\"memory (after): {df[col].memory_usage() / 1024 ** 2:.2f} MB\")\n",
        "            print(\"**********************\\n\")\n",
        "\n",
        "    new_memory_usage = df.memory_usage().sum() / 1024 ** 2\n",
        "    print(f\"Memory usage of {current_memory_usage:.2f} MB reduced to {new_memory_usage:.2f} MB\")\n",
        "    print(f\"% reduced: {100 - (100 * new_memory_usage/current_memory_usage):.2f}%\")\n",
        "\n",
        "    return df"
      ]
    },
    {
      "cell_type": "code",
      "execution_count": null,
      "metadata": {
        "colab": {
          "base_uri": "https://localhost:8080/",
          "height": 352
        },
        "id": "O2TUaKn4V8P2",
        "outputId": "41483780-9956-40cb-915b-b47a94b067f5"
      },
      "outputs": [
        {
          "output_type": "execute_result",
          "data": {
            "text/plain": [
              "                                                 url        type  target  \\\n",
              "0                                   br-icloud.com.br    phishing       2   \n",
              "1                mp3raid.com/music/krizz_kaliko.html      benign       0   \n",
              "2                    bopsecrets.org/rexroth/cr/1.htm      benign       0   \n",
              "3  http://www.garage-pirenne.be/index.php?option=...  defacement       1   \n",
              "4  http://adventure-nicaragua.net/index.php?optio...  defacement       1   \n",
              "\n",
              "   is_ip  is_https_secured  url_length subdomain               domain     tld  \\\n",
              "0      0                 0          16       NaN            br-icloud  com.br   \n",
              "1      0                 0          35       NaN              mp3raid     com   \n",
              "2      0                 0          31       NaN           bopsecrets     org   \n",
              "3      0                 0          88       www       garage-pirenne      be   \n",
              "4      0                 0         235       NaN  adventure-nicaragua     net   \n",
              "\n",
              "                       fld  ...  #  %  +  $  !  *  ,  //  contains_shortening  \\\n",
              "0         br-icloud.com.br  ...  0  0  0  0  0  0  0   0                    0   \n",
              "1              mp3raid.com  ...  0  0  0  0  0  0  0   0                    0   \n",
              "2           bopsecrets.org  ...  0  0  0  0  0  0  0   0                    0   \n",
              "3        garage-pirenne.be  ...  0  0  0  0  0  0  0   1                    0   \n",
              "4  adventure-nicaragua.net  ...  0  0  0  0  0  0  0   1                    0   \n",
              "\n",
              "   special_count  \n",
              "0              3  \n",
              "1              2  \n",
              "2              2  \n",
              "3             10  \n",
              "4              8  \n",
              "\n",
              "[5 rows x 30 columns]"
            ],
            "text/html": [
              "\n",
              "  <div id=\"df-4d36abcd-2b69-42c0-a191-7c7ca8c683f3\">\n",
              "    <div class=\"colab-df-container\">\n",
              "      <div>\n",
              "<style scoped>\n",
              "    .dataframe tbody tr th:only-of-type {\n",
              "        vertical-align: middle;\n",
              "    }\n",
              "\n",
              "    .dataframe tbody tr th {\n",
              "        vertical-align: top;\n",
              "    }\n",
              "\n",
              "    .dataframe thead th {\n",
              "        text-align: right;\n",
              "    }\n",
              "</style>\n",
              "<table border=\"1\" class=\"dataframe\">\n",
              "  <thead>\n",
              "    <tr style=\"text-align: right;\">\n",
              "      <th></th>\n",
              "      <th>url</th>\n",
              "      <th>type</th>\n",
              "      <th>target</th>\n",
              "      <th>is_ip</th>\n",
              "      <th>is_https_secured</th>\n",
              "      <th>url_length</th>\n",
              "      <th>subdomain</th>\n",
              "      <th>domain</th>\n",
              "      <th>tld</th>\n",
              "      <th>fld</th>\n",
              "      <th>...</th>\n",
              "      <th>#</th>\n",
              "      <th>%</th>\n",
              "      <th>+</th>\n",
              "      <th>$</th>\n",
              "      <th>!</th>\n",
              "      <th>*</th>\n",
              "      <th>,</th>\n",
              "      <th>//</th>\n",
              "      <th>contains_shortening</th>\n",
              "      <th>special_count</th>\n",
              "    </tr>\n",
              "  </thead>\n",
              "  <tbody>\n",
              "    <tr>\n",
              "      <th>0</th>\n",
              "      <td>br-icloud.com.br</td>\n",
              "      <td>phishing</td>\n",
              "      <td>2</td>\n",
              "      <td>0</td>\n",
              "      <td>0</td>\n",
              "      <td>16</td>\n",
              "      <td>NaN</td>\n",
              "      <td>br-icloud</td>\n",
              "      <td>com.br</td>\n",
              "      <td>br-icloud.com.br</td>\n",
              "      <td>...</td>\n",
              "      <td>0</td>\n",
              "      <td>0</td>\n",
              "      <td>0</td>\n",
              "      <td>0</td>\n",
              "      <td>0</td>\n",
              "      <td>0</td>\n",
              "      <td>0</td>\n",
              "      <td>0</td>\n",
              "      <td>0</td>\n",
              "      <td>3</td>\n",
              "    </tr>\n",
              "    <tr>\n",
              "      <th>1</th>\n",
              "      <td>mp3raid.com/music/krizz_kaliko.html</td>\n",
              "      <td>benign</td>\n",
              "      <td>0</td>\n",
              "      <td>0</td>\n",
              "      <td>0</td>\n",
              "      <td>35</td>\n",
              "      <td>NaN</td>\n",
              "      <td>mp3raid</td>\n",
              "      <td>com</td>\n",
              "      <td>mp3raid.com</td>\n",
              "      <td>...</td>\n",
              "      <td>0</td>\n",
              "      <td>0</td>\n",
              "      <td>0</td>\n",
              "      <td>0</td>\n",
              "      <td>0</td>\n",
              "      <td>0</td>\n",
              "      <td>0</td>\n",
              "      <td>0</td>\n",
              "      <td>0</td>\n",
              "      <td>2</td>\n",
              "    </tr>\n",
              "    <tr>\n",
              "      <th>2</th>\n",
              "      <td>bopsecrets.org/rexroth/cr/1.htm</td>\n",
              "      <td>benign</td>\n",
              "      <td>0</td>\n",
              "      <td>0</td>\n",
              "      <td>0</td>\n",
              "      <td>31</td>\n",
              "      <td>NaN</td>\n",
              "      <td>bopsecrets</td>\n",
              "      <td>org</td>\n",
              "      <td>bopsecrets.org</td>\n",
              "      <td>...</td>\n",
              "      <td>0</td>\n",
              "      <td>0</td>\n",
              "      <td>0</td>\n",
              "      <td>0</td>\n",
              "      <td>0</td>\n",
              "      <td>0</td>\n",
              "      <td>0</td>\n",
              "      <td>0</td>\n",
              "      <td>0</td>\n",
              "      <td>2</td>\n",
              "    </tr>\n",
              "    <tr>\n",
              "      <th>3</th>\n",
              "      <td>http://www.garage-pirenne.be/index.php?option=...</td>\n",
              "      <td>defacement</td>\n",
              "      <td>1</td>\n",
              "      <td>0</td>\n",
              "      <td>0</td>\n",
              "      <td>88</td>\n",
              "      <td>www</td>\n",
              "      <td>garage-pirenne</td>\n",
              "      <td>be</td>\n",
              "      <td>garage-pirenne.be</td>\n",
              "      <td>...</td>\n",
              "      <td>0</td>\n",
              "      <td>0</td>\n",
              "      <td>0</td>\n",
              "      <td>0</td>\n",
              "      <td>0</td>\n",
              "      <td>0</td>\n",
              "      <td>0</td>\n",
              "      <td>1</td>\n",
              "      <td>0</td>\n",
              "      <td>10</td>\n",
              "    </tr>\n",
              "    <tr>\n",
              "      <th>4</th>\n",
              "      <td>http://adventure-nicaragua.net/index.php?optio...</td>\n",
              "      <td>defacement</td>\n",
              "      <td>1</td>\n",
              "      <td>0</td>\n",
              "      <td>0</td>\n",
              "      <td>235</td>\n",
              "      <td>NaN</td>\n",
              "      <td>adventure-nicaragua</td>\n",
              "      <td>net</td>\n",
              "      <td>adventure-nicaragua.net</td>\n",
              "      <td>...</td>\n",
              "      <td>0</td>\n",
              "      <td>0</td>\n",
              "      <td>0</td>\n",
              "      <td>0</td>\n",
              "      <td>0</td>\n",
              "      <td>0</td>\n",
              "      <td>0</td>\n",
              "      <td>1</td>\n",
              "      <td>0</td>\n",
              "      <td>8</td>\n",
              "    </tr>\n",
              "  </tbody>\n",
              "</table>\n",
              "<p>5 rows × 30 columns</p>\n",
              "</div>\n",
              "      <button class=\"colab-df-convert\" onclick=\"convertToInteractive('df-4d36abcd-2b69-42c0-a191-7c7ca8c683f3')\"\n",
              "              title=\"Convert this dataframe to an interactive table.\"\n",
              "              style=\"display:none;\">\n",
              "        \n",
              "  <svg xmlns=\"http://www.w3.org/2000/svg\" height=\"24px\"viewBox=\"0 0 24 24\"\n",
              "       width=\"24px\">\n",
              "    <path d=\"M0 0h24v24H0V0z\" fill=\"none\"/>\n",
              "    <path d=\"M18.56 5.44l.94 2.06.94-2.06 2.06-.94-2.06-.94-.94-2.06-.94 2.06-2.06.94zm-11 1L8.5 8.5l.94-2.06 2.06-.94-2.06-.94L8.5 2.5l-.94 2.06-2.06.94zm10 10l.94 2.06.94-2.06 2.06-.94-2.06-.94-.94-2.06-.94 2.06-2.06.94z\"/><path d=\"M17.41 7.96l-1.37-1.37c-.4-.4-.92-.59-1.43-.59-.52 0-1.04.2-1.43.59L10.3 9.45l-7.72 7.72c-.78.78-.78 2.05 0 2.83L4 21.41c.39.39.9.59 1.41.59.51 0 1.02-.2 1.41-.59l7.78-7.78 2.81-2.81c.8-.78.8-2.07 0-2.86zM5.41 20L4 18.59l7.72-7.72 1.47 1.35L5.41 20z\"/>\n",
              "  </svg>\n",
              "      </button>\n",
              "      \n",
              "  <style>\n",
              "    .colab-df-container {\n",
              "      display:flex;\n",
              "      flex-wrap:wrap;\n",
              "      gap: 12px;\n",
              "    }\n",
              "\n",
              "    .colab-df-convert {\n",
              "      background-color: #E8F0FE;\n",
              "      border: none;\n",
              "      border-radius: 50%;\n",
              "      cursor: pointer;\n",
              "      display: none;\n",
              "      fill: #1967D2;\n",
              "      height: 32px;\n",
              "      padding: 0 0 0 0;\n",
              "      width: 32px;\n",
              "    }\n",
              "\n",
              "    .colab-df-convert:hover {\n",
              "      background-color: #E2EBFA;\n",
              "      box-shadow: 0px 1px 2px rgba(60, 64, 67, 0.3), 0px 1px 3px 1px rgba(60, 64, 67, 0.15);\n",
              "      fill: #174EA6;\n",
              "    }\n",
              "\n",
              "    [theme=dark] .colab-df-convert {\n",
              "      background-color: #3B4455;\n",
              "      fill: #D2E3FC;\n",
              "    }\n",
              "\n",
              "    [theme=dark] .colab-df-convert:hover {\n",
              "      background-color: #434B5C;\n",
              "      box-shadow: 0px 1px 3px 1px rgba(0, 0, 0, 0.15);\n",
              "      filter: drop-shadow(0px 1px 2px rgba(0, 0, 0, 0.3));\n",
              "      fill: #FFFFFF;\n",
              "    }\n",
              "  </style>\n",
              "\n",
              "      <script>\n",
              "        const buttonEl =\n",
              "          document.querySelector('#df-4d36abcd-2b69-42c0-a191-7c7ca8c683f3 button.colab-df-convert');\n",
              "        buttonEl.style.display =\n",
              "          google.colab.kernel.accessAllowed ? 'block' : 'none';\n",
              "\n",
              "        async function convertToInteractive(key) {\n",
              "          const element = document.querySelector('#df-4d36abcd-2b69-42c0-a191-7c7ca8c683f3');\n",
              "          const dataTable =\n",
              "            await google.colab.kernel.invokeFunction('convertToInteractive',\n",
              "                                                     [key], {});\n",
              "          if (!dataTable) return;\n",
              "\n",
              "          const docLinkHtml = 'Like what you see? Visit the ' +\n",
              "            '<a target=\"_blank\" href=https://colab.research.google.com/notebooks/data_table.ipynb>data table notebook</a>'\n",
              "            + ' to learn more about interactive tables.';\n",
              "          element.innerHTML = '';\n",
              "          dataTable['output_type'] = 'display_data';\n",
              "          await google.colab.output.renderOutput(dataTable, element);\n",
              "          const docLink = document.createElement('div');\n",
              "          docLink.innerHTML = docLinkHtml;\n",
              "          element.appendChild(docLink);\n",
              "        }\n",
              "      </script>\n",
              "    </div>\n",
              "  </div>\n",
              "  "
            ]
          },
          "metadata": {},
          "execution_count": 18
        }
      ],
      "source": [
        "# Authenticate user on google colab\n",
        "auth.authenticate_user()\n",
        "\n",
        "# Create google auth session and pass credentials\n",
        "g_auth = GoogleAuth()\n",
        "g_auth.credentials = GoogleCredentials.get_application_default()\n",
        "\n",
        "# Allow colab session to access drive folders and files\n",
        "drive = GoogleDrive(g_auth)\n",
        "\n",
        "file_link = \"https://drive.google.com/file/d/1LFIA4qEWLMZNijxYTthkF3ppdaPblesI/view?usp=share_link\"\n",
        "\n",
        "file_id = re.search(\"[https]*:\\/{2}[a-z]+.[a-z]+.[a-z]+\\/file\\/d\\/(.*)\\/\", file_link).group(1)\n",
        "\n",
        "csv_file = drive.CreateFile({\"id\":file_id})\n",
        "csv_file.GetContentFile(\"final_malicious_phish.csv\")\n",
        "\n",
        "df = pd.read_csv(\"final_malicious_phish.csv\")\n",
        "df.head()"
      ]
    },
    {
      "cell_type": "code",
      "execution_count": null,
      "metadata": {
        "id": "gFeJDFmkSpM6"
      },
      "outputs": [],
      "source": [
        "# method to reduce dataframe by a fraction, while preserving target variable distribution\n",
        "def shorten_dataframe(df: pd.DataFrame, column: str, fraction: float) -> pd.DataFrame:\n",
        "    final_df = df.iloc[0:0]\n",
        "    \n",
        "    print(f\"Target column: {column}\\nShorten to {fraction * 100}%\\n\")\n",
        "\n",
        "    for index in df[column].value_counts().index:\n",
        "        final_df = pd.concat([final_df, df[df[column] == index].sample(frac=fraction, random_state=42)])\n",
        "        print(f\"{index} reduced from {len(df[df[column] == index])} to {len(final_df[final_df[column] == index])}\")\n",
        "\n",
        "    print(f\"\\n{final_df[column].value_counts()}\")\n",
        "\n",
        "    return final_df"
      ]
    },
    {
      "cell_type": "code",
      "execution_count": null,
      "metadata": {
        "colab": {
          "base_uri": "https://localhost:8080/"
        },
        "id": "tasT4cV5a26o",
        "outputId": "0b4d5bd5-9cfc-4365-9158-11ba413128e7"
      },
      "outputs": [
        {
          "output_type": "stream",
          "name": "stdout",
          "text": [
            "Target column: target\n",
            "Shorten to 2.0%\n",
            "\n",
            "0 reduced from 428103 to 8562\n",
            "1 reduced from 96457 to 1929\n",
            "2 reduced from 94111 to 1882\n",
            "3 reduced from 32520 to 650\n",
            "\n",
            "0    8562\n",
            "1    1929\n",
            "2    1882\n",
            "3     650\n",
            "Name: target, dtype: int64\n"
          ]
        }
      ],
      "source": [
        "final_df = shorten_dataframe(df, column=\"target\", fraction=0.02)"
      ]
    },
    {
      "cell_type": "code",
      "execution_count": null,
      "metadata": {
        "colab": {
          "base_uri": "https://localhost:8080/"
        },
        "id": "7TYrm4K7tESS",
        "outputId": "799f62ab-0235-4aa2-84dd-5d7260747523"
      },
      "outputs": [
        {
          "output_type": "execute_result",
          "data": {
            "text/plain": [
              "31     413\n",
              "33     286\n",
              "34     247\n",
              "27     242\n",
              "40     238\n",
              "      ... \n",
              "301      1\n",
              "314      1\n",
              "253      1\n",
              "265      1\n",
              "206      1\n",
              "Name: url_length, Length: 287, dtype: int64"
            ]
          },
          "metadata": {},
          "execution_count": 21
        }
      ],
      "source": [
        "final_df[\"target\"] = df[\"target\"].replace([2, 3], 1)\n",
        "final_df.url_length.value_counts()"
      ]
    },
    {
      "cell_type": "code",
      "execution_count": null,
      "metadata": {
        "colab": {
          "base_uri": "https://localhost:8080/",
          "height": 1000
        },
        "id": "oD6TAZsz1YUj",
        "outputId": "3e848bab-9574-4374-8225-b001fef8ab51"
      },
      "outputs": [
        {
          "output_type": "stream",
          "name": "stdout",
          "text": [
            "Memory of dataframe: 3.0800857543945312 MB\n",
            "\n",
            "**********************\n",
            "Column: target\n",
            "----------------------\n",
            "Dtype (before): int64\n",
            "Memory (before): 0.20 MB\n",
            "----------------------\n",
            "Dtype (after): uint8\n",
            "memory (after): 0.11 MB\n",
            "**********************\n",
            "\n",
            "**********************\n",
            "Column: is_ip\n",
            "----------------------\n",
            "Dtype (before): int64\n",
            "Memory (before): 0.20 MB\n",
            "----------------------\n",
            "Dtype (after): uint8\n",
            "memory (after): 0.11 MB\n",
            "**********************\n",
            "\n",
            "**********************\n",
            "Column: is_https_secured\n",
            "----------------------\n",
            "Dtype (before): int64\n",
            "Memory (before): 0.20 MB\n",
            "----------------------\n",
            "Dtype (after): uint8\n",
            "memory (after): 0.11 MB\n",
            "**********************\n",
            "\n",
            "**********************\n",
            "Column: url_length\n",
            "----------------------\n",
            "Dtype (before): int64\n",
            "Memory (before): 0.20 MB\n",
            "----------------------\n",
            "Dtype (after): uint16\n",
            "memory (after): 0.12 MB\n",
            "**********************\n",
            "\n",
            "**********************\n",
            "Column: subdomain_len\n",
            "----------------------\n",
            "Dtype (before): int64\n",
            "Memory (before): 0.20 MB\n",
            "----------------------\n",
            "Dtype (after): uint8\n",
            "memory (after): 0.11 MB\n",
            "**********************\n",
            "\n",
            "**********************\n",
            "Column: tld_len\n",
            "----------------------\n",
            "Dtype (before): int64\n",
            "Memory (before): 0.20 MB\n",
            "----------------------\n",
            "Dtype (after): uint8\n",
            "memory (after): 0.11 MB\n",
            "**********************\n",
            "\n",
            "**********************\n",
            "Column: fld_len\n",
            "----------------------\n",
            "Dtype (before): int64\n",
            "Memory (before): 0.20 MB\n",
            "----------------------\n",
            "Dtype (after): uint8\n",
            "memory (after): 0.11 MB\n",
            "**********************\n",
            "\n",
            "**********************\n",
            "Column: digit_count\n",
            "----------------------\n",
            "Dtype (before): int64\n",
            "Memory (before): 0.20 MB\n",
            "----------------------\n",
            "Dtype (after): uint8\n",
            "memory (after): 0.11 MB\n",
            "**********************\n",
            "\n",
            "**********************\n",
            "Column: letter_count\n",
            "----------------------\n",
            "Dtype (before): int64\n",
            "Memory (before): 0.20 MB\n",
            "----------------------\n",
            "Dtype (after): uint16\n",
            "memory (after): 0.12 MB\n",
            "**********************\n",
            "\n",
            "**********************\n",
            "Column: @\n",
            "----------------------\n",
            "Dtype (before): int64\n",
            "Memory (before): 0.20 MB\n",
            "----------------------\n",
            "Dtype (after): uint8\n",
            "memory (after): 0.11 MB\n",
            "**********************\n",
            "\n",
            "**********************\n",
            "Column: ?\n",
            "----------------------\n",
            "Dtype (before): int64\n",
            "Memory (before): 0.20 MB\n",
            "----------------------\n",
            "Dtype (after): uint8\n",
            "memory (after): 0.11 MB\n",
            "**********************\n",
            "\n",
            "**********************\n",
            "Column: -\n",
            "----------------------\n",
            "Dtype (before): int64\n",
            "Memory (before): 0.20 MB\n",
            "----------------------\n",
            "Dtype (after): uint8\n",
            "memory (after): 0.11 MB\n",
            "**********************\n",
            "\n",
            "**********************\n",
            "Column: =\n",
            "----------------------\n",
            "Dtype (before): int64\n",
            "Memory (before): 0.20 MB\n",
            "----------------------\n",
            "Dtype (after): uint8\n",
            "memory (after): 0.11 MB\n",
            "**********************\n",
            "\n",
            "**********************\n",
            "Column: .\n",
            "----------------------\n",
            "Dtype (before): int64\n",
            "Memory (before): 0.20 MB\n",
            "----------------------\n",
            "Dtype (after): uint8\n",
            "memory (after): 0.11 MB\n",
            "**********************\n",
            "\n",
            "**********************\n",
            "Column: #\n",
            "----------------------\n",
            "Dtype (before): int64\n",
            "Memory (before): 0.20 MB\n",
            "----------------------\n",
            "Dtype (after): uint8\n",
            "memory (after): 0.11 MB\n",
            "**********************\n",
            "\n",
            "**********************\n",
            "Column: %\n",
            "----------------------\n",
            "Dtype (before): int64\n",
            "Memory (before): 0.20 MB\n",
            "----------------------\n",
            "Dtype (after): uint8\n",
            "memory (after): 0.11 MB\n",
            "**********************\n",
            "\n",
            "**********************\n",
            "Column: +\n",
            "----------------------\n",
            "Dtype (before): int64\n",
            "Memory (before): 0.20 MB\n",
            "----------------------\n",
            "Dtype (after): uint8\n",
            "memory (after): 0.11 MB\n",
            "**********************\n",
            "\n",
            "**********************\n",
            "Column: $\n",
            "----------------------\n",
            "Dtype (before): int64\n",
            "Memory (before): 0.20 MB\n",
            "----------------------\n",
            "Dtype (after): uint8\n",
            "memory (after): 0.11 MB\n",
            "**********************\n",
            "\n",
            "**********************\n",
            "Column: !\n",
            "----------------------\n",
            "Dtype (before): int64\n",
            "Memory (before): 0.20 MB\n",
            "----------------------\n",
            "Dtype (after): uint8\n",
            "memory (after): 0.11 MB\n",
            "**********************\n",
            "\n",
            "**********************\n",
            "Column: *\n",
            "----------------------\n",
            "Dtype (before): int64\n",
            "Memory (before): 0.20 MB\n",
            "----------------------\n",
            "Dtype (after): uint8\n",
            "memory (after): 0.11 MB\n",
            "**********************\n",
            "\n",
            "**********************\n",
            "Column: ,\n",
            "----------------------\n",
            "Dtype (before): int64\n",
            "Memory (before): 0.20 MB\n",
            "----------------------\n",
            "Dtype (after): uint8\n",
            "memory (after): 0.11 MB\n",
            "**********************\n",
            "\n",
            "**********************\n",
            "Column: //\n",
            "----------------------\n",
            "Dtype (before): int64\n",
            "Memory (before): 0.20 MB\n",
            "----------------------\n",
            "Dtype (after): uint8\n",
            "memory (after): 0.11 MB\n",
            "**********************\n",
            "\n",
            "**********************\n",
            "Column: contains_shortening\n",
            "----------------------\n",
            "Dtype (before): int64\n",
            "Memory (before): 0.20 MB\n",
            "----------------------\n",
            "Dtype (after): uint8\n",
            "memory (after): 0.11 MB\n",
            "**********************\n",
            "\n",
            "**********************\n",
            "Column: special_count\n",
            "----------------------\n",
            "Dtype (before): int64\n",
            "Memory (before): 0.20 MB\n",
            "----------------------\n",
            "Dtype (after): uint8\n",
            "memory (after): 0.11 MB\n",
            "**********************\n",
            "\n",
            "Memory usage of 3.08 MB reduced to 1.02 MB\n",
            "% reduced: 66.94%\n"
          ]
        },
        {
          "output_type": "execute_result",
          "data": {
            "text/plain": [
              "                                                      url     type  target  \\\n",
              "514768   montreal.louer.com/ahuntsic-rentals/houses-rent/   benign       0   \n",
              "222536       comunidade.sol.pt/blogs/hytigin/default.aspx   benign       0   \n",
              "276748                    youtube.com/watch?v=PUDOlyCpHwo   benign       0   \n",
              "50193                      uiowa.edu/~acadtech/phonetics/   benign       0   \n",
              "339822                   flixster.com/actor/steve-mcqueen   benign       0   \n",
              "...                                                   ...      ...     ...   \n",
              "130543  http://9779.info/%E6%96%87%E6%98%8E%E5%9C%A8%E...  malware       1   \n",
              "550575  https://mitsui-jyuku.mixh.jp/uploads/22013687e...  malware       1   \n",
              "550863  https://mitsui-jyuku.mixh.jp/uploads/148N8Mk0.exe  malware       1   \n",
              "540674                   http://134.209.165.195/Pipe/i586  malware       1   \n",
              "552022            http://perrynamehbd.com/good/Seaman.exe  malware       1   \n",
              "\n",
              "        is_ip  is_https_secured  url_length     subdomain        domain   tld  \\\n",
              "514768      0                 0          48      montreal         louer   com   \n",
              "222536      0                 0          44    comunidade           sol    pt   \n",
              "276748      0                 0          31           NaN       youtube   com   \n",
              "50193       0                 0          30           NaN         uiowa   edu   \n",
              "339822      0                 0          32           NaN      flixster   com   \n",
              "...       ...               ...         ...           ...           ...   ...   \n",
              "130543      0                 0          90           NaN          9779  info   \n",
              "550575      0                 1          76  mitsui-jyuku          mixh    jp   \n",
              "550863      0                 1          49  mitsui-jyuku          mixh    jp   \n",
              "540674      1                 0          32           NaN           NaN   NaN   \n",
              "552022      0                 0          39           NaN  perrynamehbd   com   \n",
              "\n",
              "                     fld  ...  #   %  +  $  !  *  ,  //  contains_shortening  \\\n",
              "514768         louer.com  ...  0   0  0  0  0  0  0   0                    0   \n",
              "222536            sol.pt  ...  0   0  0  0  0  0  0   0                    0   \n",
              "276748       youtube.com  ...  0   0  0  0  0  0  0   0                    0   \n",
              "50193          uiowa.edu  ...  0   0  0  0  0  0  0   0                    0   \n",
              "339822      flixster.com  ...  0   0  0  0  0  0  0   0                    0   \n",
              "...                  ...  ... ..  .. .. .. .. .. ..  ..                  ...   \n",
              "130543         9779.info  ...  0  24  0  0  0  0  0   1                    0   \n",
              "550575           mixh.jp  ...  0   0  0  0  0  0  0   1                    0   \n",
              "550863           mixh.jp  ...  0   0  0  0  0  0  0   1                    0   \n",
              "540674               NaN  ...  0   0  0  0  0  0  0   1                    0   \n",
              "552022  perrynamehbd.com  ...  0   0  0  0  0  0  0   1                    0   \n",
              "\n",
              "        special_count  \n",
              "514768              4  \n",
              "222536              3  \n",
              "276748              3  \n",
              "50193               1  \n",
              "339822              2  \n",
              "...               ...  \n",
              "130543             26  \n",
              "550575              5  \n",
              "550863              5  \n",
              "540674              4  \n",
              "552022              3  \n",
              "\n",
              "[13023 rows x 30 columns]"
            ],
            "text/html": [
              "\n",
              "  <div id=\"df-b5c1751d-f01e-4ee8-8d48-5da0a4d69547\">\n",
              "    <div class=\"colab-df-container\">\n",
              "      <div>\n",
              "<style scoped>\n",
              "    .dataframe tbody tr th:only-of-type {\n",
              "        vertical-align: middle;\n",
              "    }\n",
              "\n",
              "    .dataframe tbody tr th {\n",
              "        vertical-align: top;\n",
              "    }\n",
              "\n",
              "    .dataframe thead th {\n",
              "        text-align: right;\n",
              "    }\n",
              "</style>\n",
              "<table border=\"1\" class=\"dataframe\">\n",
              "  <thead>\n",
              "    <tr style=\"text-align: right;\">\n",
              "      <th></th>\n",
              "      <th>url</th>\n",
              "      <th>type</th>\n",
              "      <th>target</th>\n",
              "      <th>is_ip</th>\n",
              "      <th>is_https_secured</th>\n",
              "      <th>url_length</th>\n",
              "      <th>subdomain</th>\n",
              "      <th>domain</th>\n",
              "      <th>tld</th>\n",
              "      <th>fld</th>\n",
              "      <th>...</th>\n",
              "      <th>#</th>\n",
              "      <th>%</th>\n",
              "      <th>+</th>\n",
              "      <th>$</th>\n",
              "      <th>!</th>\n",
              "      <th>*</th>\n",
              "      <th>,</th>\n",
              "      <th>//</th>\n",
              "      <th>contains_shortening</th>\n",
              "      <th>special_count</th>\n",
              "    </tr>\n",
              "  </thead>\n",
              "  <tbody>\n",
              "    <tr>\n",
              "      <th>514768</th>\n",
              "      <td>montreal.louer.com/ahuntsic-rentals/houses-rent/</td>\n",
              "      <td>benign</td>\n",
              "      <td>0</td>\n",
              "      <td>0</td>\n",
              "      <td>0</td>\n",
              "      <td>48</td>\n",
              "      <td>montreal</td>\n",
              "      <td>louer</td>\n",
              "      <td>com</td>\n",
              "      <td>louer.com</td>\n",
              "      <td>...</td>\n",
              "      <td>0</td>\n",
              "      <td>0</td>\n",
              "      <td>0</td>\n",
              "      <td>0</td>\n",
              "      <td>0</td>\n",
              "      <td>0</td>\n",
              "      <td>0</td>\n",
              "      <td>0</td>\n",
              "      <td>0</td>\n",
              "      <td>4</td>\n",
              "    </tr>\n",
              "    <tr>\n",
              "      <th>222536</th>\n",
              "      <td>comunidade.sol.pt/blogs/hytigin/default.aspx</td>\n",
              "      <td>benign</td>\n",
              "      <td>0</td>\n",
              "      <td>0</td>\n",
              "      <td>0</td>\n",
              "      <td>44</td>\n",
              "      <td>comunidade</td>\n",
              "      <td>sol</td>\n",
              "      <td>pt</td>\n",
              "      <td>sol.pt</td>\n",
              "      <td>...</td>\n",
              "      <td>0</td>\n",
              "      <td>0</td>\n",
              "      <td>0</td>\n",
              "      <td>0</td>\n",
              "      <td>0</td>\n",
              "      <td>0</td>\n",
              "      <td>0</td>\n",
              "      <td>0</td>\n",
              "      <td>0</td>\n",
              "      <td>3</td>\n",
              "    </tr>\n",
              "    <tr>\n",
              "      <th>276748</th>\n",
              "      <td>youtube.com/watch?v=PUDOlyCpHwo</td>\n",
              "      <td>benign</td>\n",
              "      <td>0</td>\n",
              "      <td>0</td>\n",
              "      <td>0</td>\n",
              "      <td>31</td>\n",
              "      <td>NaN</td>\n",
              "      <td>youtube</td>\n",
              "      <td>com</td>\n",
              "      <td>youtube.com</td>\n",
              "      <td>...</td>\n",
              "      <td>0</td>\n",
              "      <td>0</td>\n",
              "      <td>0</td>\n",
              "      <td>0</td>\n",
              "      <td>0</td>\n",
              "      <td>0</td>\n",
              "      <td>0</td>\n",
              "      <td>0</td>\n",
              "      <td>0</td>\n",
              "      <td>3</td>\n",
              "    </tr>\n",
              "    <tr>\n",
              "      <th>50193</th>\n",
              "      <td>uiowa.edu/~acadtech/phonetics/</td>\n",
              "      <td>benign</td>\n",
              "      <td>0</td>\n",
              "      <td>0</td>\n",
              "      <td>0</td>\n",
              "      <td>30</td>\n",
              "      <td>NaN</td>\n",
              "      <td>uiowa</td>\n",
              "      <td>edu</td>\n",
              "      <td>uiowa.edu</td>\n",
              "      <td>...</td>\n",
              "      <td>0</td>\n",
              "      <td>0</td>\n",
              "      <td>0</td>\n",
              "      <td>0</td>\n",
              "      <td>0</td>\n",
              "      <td>0</td>\n",
              "      <td>0</td>\n",
              "      <td>0</td>\n",
              "      <td>0</td>\n",
              "      <td>1</td>\n",
              "    </tr>\n",
              "    <tr>\n",
              "      <th>339822</th>\n",
              "      <td>flixster.com/actor/steve-mcqueen</td>\n",
              "      <td>benign</td>\n",
              "      <td>0</td>\n",
              "      <td>0</td>\n",
              "      <td>0</td>\n",
              "      <td>32</td>\n",
              "      <td>NaN</td>\n",
              "      <td>flixster</td>\n",
              "      <td>com</td>\n",
              "      <td>flixster.com</td>\n",
              "      <td>...</td>\n",
              "      <td>0</td>\n",
              "      <td>0</td>\n",
              "      <td>0</td>\n",
              "      <td>0</td>\n",
              "      <td>0</td>\n",
              "      <td>0</td>\n",
              "      <td>0</td>\n",
              "      <td>0</td>\n",
              "      <td>0</td>\n",
              "      <td>2</td>\n",
              "    </tr>\n",
              "    <tr>\n",
              "      <th>...</th>\n",
              "      <td>...</td>\n",
              "      <td>...</td>\n",
              "      <td>...</td>\n",
              "      <td>...</td>\n",
              "      <td>...</td>\n",
              "      <td>...</td>\n",
              "      <td>...</td>\n",
              "      <td>...</td>\n",
              "      <td>...</td>\n",
              "      <td>...</td>\n",
              "      <td>...</td>\n",
              "      <td>...</td>\n",
              "      <td>...</td>\n",
              "      <td>...</td>\n",
              "      <td>...</td>\n",
              "      <td>...</td>\n",
              "      <td>...</td>\n",
              "      <td>...</td>\n",
              "      <td>...</td>\n",
              "      <td>...</td>\n",
              "      <td>...</td>\n",
              "    </tr>\n",
              "    <tr>\n",
              "      <th>130543</th>\n",
              "      <td>http://9779.info/%E6%96%87%E6%98%8E%E5%9C%A8%E...</td>\n",
              "      <td>malware</td>\n",
              "      <td>1</td>\n",
              "      <td>0</td>\n",
              "      <td>0</td>\n",
              "      <td>90</td>\n",
              "      <td>NaN</td>\n",
              "      <td>9779</td>\n",
              "      <td>info</td>\n",
              "      <td>9779.info</td>\n",
              "      <td>...</td>\n",
              "      <td>0</td>\n",
              "      <td>24</td>\n",
              "      <td>0</td>\n",
              "      <td>0</td>\n",
              "      <td>0</td>\n",
              "      <td>0</td>\n",
              "      <td>0</td>\n",
              "      <td>1</td>\n",
              "      <td>0</td>\n",
              "      <td>26</td>\n",
              "    </tr>\n",
              "    <tr>\n",
              "      <th>550575</th>\n",
              "      <td>https://mitsui-jyuku.mixh.jp/uploads/22013687e...</td>\n",
              "      <td>malware</td>\n",
              "      <td>1</td>\n",
              "      <td>0</td>\n",
              "      <td>1</td>\n",
              "      <td>76</td>\n",
              "      <td>mitsui-jyuku</td>\n",
              "      <td>mixh</td>\n",
              "      <td>jp</td>\n",
              "      <td>mixh.jp</td>\n",
              "      <td>...</td>\n",
              "      <td>0</td>\n",
              "      <td>0</td>\n",
              "      <td>0</td>\n",
              "      <td>0</td>\n",
              "      <td>0</td>\n",
              "      <td>0</td>\n",
              "      <td>0</td>\n",
              "      <td>1</td>\n",
              "      <td>0</td>\n",
              "      <td>5</td>\n",
              "    </tr>\n",
              "    <tr>\n",
              "      <th>550863</th>\n",
              "      <td>https://mitsui-jyuku.mixh.jp/uploads/148N8Mk0.exe</td>\n",
              "      <td>malware</td>\n",
              "      <td>1</td>\n",
              "      <td>0</td>\n",
              "      <td>1</td>\n",
              "      <td>49</td>\n",
              "      <td>mitsui-jyuku</td>\n",
              "      <td>mixh</td>\n",
              "      <td>jp</td>\n",
              "      <td>mixh.jp</td>\n",
              "      <td>...</td>\n",
              "      <td>0</td>\n",
              "      <td>0</td>\n",
              "      <td>0</td>\n",
              "      <td>0</td>\n",
              "      <td>0</td>\n",
              "      <td>0</td>\n",
              "      <td>0</td>\n",
              "      <td>1</td>\n",
              "      <td>0</td>\n",
              "      <td>5</td>\n",
              "    </tr>\n",
              "    <tr>\n",
              "      <th>540674</th>\n",
              "      <td>http://134.209.165.195/Pipe/i586</td>\n",
              "      <td>malware</td>\n",
              "      <td>1</td>\n",
              "      <td>1</td>\n",
              "      <td>0</td>\n",
              "      <td>32</td>\n",
              "      <td>NaN</td>\n",
              "      <td>NaN</td>\n",
              "      <td>NaN</td>\n",
              "      <td>NaN</td>\n",
              "      <td>...</td>\n",
              "      <td>0</td>\n",
              "      <td>0</td>\n",
              "      <td>0</td>\n",
              "      <td>0</td>\n",
              "      <td>0</td>\n",
              "      <td>0</td>\n",
              "      <td>0</td>\n",
              "      <td>1</td>\n",
              "      <td>0</td>\n",
              "      <td>4</td>\n",
              "    </tr>\n",
              "    <tr>\n",
              "      <th>552022</th>\n",
              "      <td>http://perrynamehbd.com/good/Seaman.exe</td>\n",
              "      <td>malware</td>\n",
              "      <td>1</td>\n",
              "      <td>0</td>\n",
              "      <td>0</td>\n",
              "      <td>39</td>\n",
              "      <td>NaN</td>\n",
              "      <td>perrynamehbd</td>\n",
              "      <td>com</td>\n",
              "      <td>perrynamehbd.com</td>\n",
              "      <td>...</td>\n",
              "      <td>0</td>\n",
              "      <td>0</td>\n",
              "      <td>0</td>\n",
              "      <td>0</td>\n",
              "      <td>0</td>\n",
              "      <td>0</td>\n",
              "      <td>0</td>\n",
              "      <td>1</td>\n",
              "      <td>0</td>\n",
              "      <td>3</td>\n",
              "    </tr>\n",
              "  </tbody>\n",
              "</table>\n",
              "<p>13023 rows × 30 columns</p>\n",
              "</div>\n",
              "      <button class=\"colab-df-convert\" onclick=\"convertToInteractive('df-b5c1751d-f01e-4ee8-8d48-5da0a4d69547')\"\n",
              "              title=\"Convert this dataframe to an interactive table.\"\n",
              "              style=\"display:none;\">\n",
              "        \n",
              "  <svg xmlns=\"http://www.w3.org/2000/svg\" height=\"24px\"viewBox=\"0 0 24 24\"\n",
              "       width=\"24px\">\n",
              "    <path d=\"M0 0h24v24H0V0z\" fill=\"none\"/>\n",
              "    <path d=\"M18.56 5.44l.94 2.06.94-2.06 2.06-.94-2.06-.94-.94-2.06-.94 2.06-2.06.94zm-11 1L8.5 8.5l.94-2.06 2.06-.94-2.06-.94L8.5 2.5l-.94 2.06-2.06.94zm10 10l.94 2.06.94-2.06 2.06-.94-2.06-.94-.94-2.06-.94 2.06-2.06.94z\"/><path d=\"M17.41 7.96l-1.37-1.37c-.4-.4-.92-.59-1.43-.59-.52 0-1.04.2-1.43.59L10.3 9.45l-7.72 7.72c-.78.78-.78 2.05 0 2.83L4 21.41c.39.39.9.59 1.41.59.51 0 1.02-.2 1.41-.59l7.78-7.78 2.81-2.81c.8-.78.8-2.07 0-2.86zM5.41 20L4 18.59l7.72-7.72 1.47 1.35L5.41 20z\"/>\n",
              "  </svg>\n",
              "      </button>\n",
              "      \n",
              "  <style>\n",
              "    .colab-df-container {\n",
              "      display:flex;\n",
              "      flex-wrap:wrap;\n",
              "      gap: 12px;\n",
              "    }\n",
              "\n",
              "    .colab-df-convert {\n",
              "      background-color: #E8F0FE;\n",
              "      border: none;\n",
              "      border-radius: 50%;\n",
              "      cursor: pointer;\n",
              "      display: none;\n",
              "      fill: #1967D2;\n",
              "      height: 32px;\n",
              "      padding: 0 0 0 0;\n",
              "      width: 32px;\n",
              "    }\n",
              "\n",
              "    .colab-df-convert:hover {\n",
              "      background-color: #E2EBFA;\n",
              "      box-shadow: 0px 1px 2px rgba(60, 64, 67, 0.3), 0px 1px 3px 1px rgba(60, 64, 67, 0.15);\n",
              "      fill: #174EA6;\n",
              "    }\n",
              "\n",
              "    [theme=dark] .colab-df-convert {\n",
              "      background-color: #3B4455;\n",
              "      fill: #D2E3FC;\n",
              "    }\n",
              "\n",
              "    [theme=dark] .colab-df-convert:hover {\n",
              "      background-color: #434B5C;\n",
              "      box-shadow: 0px 1px 3px 1px rgba(0, 0, 0, 0.15);\n",
              "      filter: drop-shadow(0px 1px 2px rgba(0, 0, 0, 0.3));\n",
              "      fill: #FFFFFF;\n",
              "    }\n",
              "  </style>\n",
              "\n",
              "      <script>\n",
              "        const buttonEl =\n",
              "          document.querySelector('#df-b5c1751d-f01e-4ee8-8d48-5da0a4d69547 button.colab-df-convert');\n",
              "        buttonEl.style.display =\n",
              "          google.colab.kernel.accessAllowed ? 'block' : 'none';\n",
              "\n",
              "        async function convertToInteractive(key) {\n",
              "          const element = document.querySelector('#df-b5c1751d-f01e-4ee8-8d48-5da0a4d69547');\n",
              "          const dataTable =\n",
              "            await google.colab.kernel.invokeFunction('convertToInteractive',\n",
              "                                                     [key], {});\n",
              "          if (!dataTable) return;\n",
              "\n",
              "          const docLinkHtml = 'Like what you see? Visit the ' +\n",
              "            '<a target=\"_blank\" href=https://colab.research.google.com/notebooks/data_table.ipynb>data table notebook</a>'\n",
              "            + ' to learn more about interactive tables.';\n",
              "          element.innerHTML = '';\n",
              "          dataTable['output_type'] = 'display_data';\n",
              "          await google.colab.output.renderOutput(dataTable, element);\n",
              "          const docLink = document.createElement('div');\n",
              "          docLink.innerHTML = docLinkHtml;\n",
              "          element.appendChild(docLink);\n",
              "        }\n",
              "      </script>\n",
              "    </div>\n",
              "  </div>\n",
              "  "
            ]
          },
          "metadata": {},
          "execution_count": 22
        }
      ],
      "source": [
        "reduce_memory(final_df)"
      ]
    },
    {
      "cell_type": "code",
      "execution_count": null,
      "metadata": {
        "id": "tj9iS7c5nzup"
      },
      "outputs": [],
      "source": [
        "X = final_df.drop([\"url\", \"type\", \"target\", \"subdomain\", \"domain\", \"tld\", \"fld\"], axis=1)\n",
        "y = final_df[\"target\"]"
      ]
    },
    {
      "cell_type": "code",
      "execution_count": null,
      "metadata": {
        "colab": {
          "base_uri": "https://localhost:8080/"
        },
        "id": "26sh-UgsHCci",
        "outputId": "cb076f45-2803-4380-8b12-0f9d665cbdc9"
      },
      "outputs": [
        {
          "output_type": "stream",
          "name": "stdout",
          "text": [
            "is_ip               :\tNormal    :\tKstestResult(statistic=0.5, pvalue=0.0)\n",
            "is_https_secured    :\tNormal    :\tKstestResult(statistic=0.5, pvalue=0.0)\n",
            "url_length          :\tNormal    :\tKstestResult(statistic=0.9999999990134123, pvalue=0.0)\n",
            "subdomain_len       :\tNormal    :\tKstestResult(statistic=0.5, pvalue=0.0)\n",
            "tld_len             :\tNormal    :\tKstestResult(statistic=0.9583602112907058, pvalue=0.0)\n",
            "fld_len             :\tNormal    :\tKstestResult(statistic=0.9810786719970519, pvalue=0.0)\n",
            "digit_count         :\tNormal    :\tKstestResult(statistic=0.5007083645580022, pvalue=0.0)\n",
            "letter_count        :\tNormal    :\tKstestResult(statistic=0.9999683287581669, pvalue=0.0)\n",
            "@                   :\tNormal    :\tKstestResult(statistic=0.5, pvalue=0.0)\n",
            "?                   :\tNormal    :\tKstestResult(statistic=0.5, pvalue=0.0)\n",
            "-                   :\tNormal    :\tKstestResult(statistic=0.5, pvalue=0.0)\n",
            "=                   :\tNormal    :\tKstestResult(statistic=0.5, pvalue=0.0)\n",
            ".                   :\tNormal    :\tKstestResult(statistic=0.8413447460685429, pvalue=0.0)\n",
            "#                   :\tNormal    :\tKstestResult(statistic=0.5, pvalue=0.0)\n",
            "%                   :\tNormal    :\tKstestResult(statistic=0.5, pvalue=0.0)\n",
            "+                   :\tNormal    :\tKstestResult(statistic=0.5, pvalue=0.0)\n",
            "$                   :\tNormal    :\tKstestResult(statistic=0.5, pvalue=0.0)\n",
            "!                   :\tNormal    :\tKstestResult(statistic=0.5, pvalue=0.0)\n",
            "*                   :\tNormal    :\tKstestResult(statistic=0.5, pvalue=0.0)\n",
            ",                   :\tNormal    :\tKstestResult(statistic=0.5, pvalue=0.0)\n",
            "//                  :\tNormal    :\tKstestResult(statistic=0.5, pvalue=0.0)\n",
            "contains_shortening :\tNormal    :\tKstestResult(statistic=0.5, pvalue=0.0)\n",
            "special_count       :\tNormal    :\tKstestResult(statistic=0.8413447460685429, pvalue=0.0)\n"
          ]
        }
      ],
      "source": [
        "# Check data distribution for normality to determine how to scale the data\n",
        "# kolmogorov-smirnov test\n",
        "for column in X.columns:\n",
        "    print(f\"{column:20s}:\\t{'Normal' if kstest(X[column], 'norm')[1]<0.05 else 'Not normal':10s}:\\t{kstest(X[column], 'norm')}\")"
      ]
    },
    {
      "cell_type": "code",
      "execution_count": null,
      "metadata": {
        "colab": {
          "base_uri": "https://localhost:8080/"
        },
        "id": "IKcs1PoOpQzB",
        "outputId": "674fa255-9de1-45a6-d8a6-0f3faa7dcc04"
      },
      "outputs": [
        {
          "output_type": "execute_result",
          "data": {
            "text/plain": [
              "is_ip                  0\n",
              "is_https_secured       0\n",
              "url_length             0\n",
              "subdomain_len          0\n",
              "tld_len                0\n",
              "fld_len                0\n",
              "digit_count            0\n",
              "letter_count           0\n",
              "@                      0\n",
              "?                      0\n",
              "-                      0\n",
              "=                      0\n",
              ".                      0\n",
              "#                      0\n",
              "%                      0\n",
              "+                      0\n",
              "$                      0\n",
              "!                      0\n",
              "*                      0\n",
              ",                      0\n",
              "//                     0\n",
              "contains_shortening    0\n",
              "special_count          0\n",
              "dtype: int64"
            ]
          },
          "metadata": {},
          "execution_count": 25
        }
      ],
      "source": [
        "X.isna().sum()"
      ]
    },
    {
      "cell_type": "code",
      "execution_count": null,
      "metadata": {
        "id": "aXhwZLIsuaCz"
      },
      "outputs": [],
      "source": [
        "X_train, X_test, y_train, y_test = train_test_split(X, y, test_size=0.2, shuffle=True, stratify=y, random_state=42)\n",
        "\n",
        "scaler = StandardScaler()\n",
        "\n",
        "X_train_std = scaler.fit_transform(X_train)\n",
        "X_test_std = scaler.fit_transform(X_test)"
      ]
    },
    {
      "cell_type": "code",
      "execution_count": null,
      "metadata": {
        "colab": {
          "base_uri": "https://localhost:8080/"
        },
        "id": "F72QDhHNqvm_",
        "outputId": "8be46028-6f62-495e-8de6-4853207620ef"
      },
      "outputs": [
        {
          "output_type": "execute_result",
          "data": {
            "text/plain": [
              "0    1713\n",
              "1     892\n",
              "Name: target, dtype: int64"
            ]
          },
          "metadata": {},
          "execution_count": 27
        }
      ],
      "source": [
        "y_test.value_counts()"
      ]
    },
    {
      "cell_type": "markdown",
      "metadata": {
        "id": "3lziJ44vxmvD"
      },
      "source": [
        "## Step 5: Train machine learning models"
      ]
    },
    {
      "cell_type": "markdown",
      "metadata": {
        "id": "M47Hti3BxwrK"
      },
      "source": [
        "### 5.1 Dummy classifier"
      ]
    },
    {
      "cell_type": "code",
      "execution_count": null,
      "metadata": {
        "id": "bl9_rG2yCQun"
      },
      "outputs": [],
      "source": [
        "from tabulate import tabulate\n",
        "\n",
        "def classification_report(y_test: pd.Series, y_pred: pd.Series):\n",
        "    evaluation_methods = [f1_score, recall_score, precision_score]\n",
        "\n",
        "    print(\"****************************************************\")\n",
        "    print(f\"accuracy: {accuracy_score(y_test, y_pred):.4f}\")\n",
        "    print(\"----------------------------------------------------\")\n",
        "\n",
        "    micro, macro = [\"micro\"], [\"macro\"]\n",
        "    for method in evaluation_methods:\n",
        "        micro_result = f\"{method(y_test, y_pred, average='micro', zero_division=0):.4f}\"\n",
        "        macro_result = f\"{method(y_test, y_pred, average='macro', zero_division=0):.4f}\"\n",
        "\n",
        "        micro.append(micro_result)\n",
        "        macro.append(macro_result)\n",
        "    \n",
        "    print(tabulate([micro, macro], headers=[method.__name__ for method in evaluation_methods]))\n",
        "    print(\"----------------------------------------------------\\n\")\n",
        "    ConfusionMatrixDisplay.from_predictions(y_test, y_pred)\n",
        "    plt.show()\n",
        "    print(\"\\n****************************************************\")"
      ]
    },
    {
      "cell_type": "code",
      "execution_count": null,
      "metadata": {
        "id": "7-eWUzVtubz6"
      },
      "outputs": [],
      "source": [
        "def classification_report(y_test: pd.Series, y_pred: pd.Series, y_pred_proba: pd.Series):\n",
        "    evaluation_methods = [f1_score, recall_score, precision_score]\n",
        "\n",
        "    print(\"\\n****************************************************\")\n",
        "    print(f\"accuracy: {accuracy_score(y_test, y_pred):.4f}\")\n",
        "    print(f\"roc_auc_score: {roc_auc_score(y_test, y_pred):.4f}\")\n",
        "    print(\"----------------------------------------------------\")\n",
        "\n",
        "    for method in evaluation_methods:\n",
        "        print(f\"{method.__name__:20s}:{method(y_test, y_pred, zero_division=0):.4f}\")\n",
        "    \n",
        "    print(\"----------------------------------------------------\")\n",
        "    print(\"ROC-Curve\\n\")\n",
        "    fpr, tpr, thresholds = roc_curve(y_test, y_pred_proba[:, 1])\n",
        "    plt.plot([0, 1], [0, 1], linestyle='--')\n",
        "\n",
        "    # plot the roc curve for the model\n",
        "    plt.plot(fpr, tpr, marker='.')\n",
        "\n",
        "    # show the plot\n",
        "    plt.xlabel('False Positive Rate')\n",
        "    plt.ylabel('True Positive Rate')\n",
        "    plt.title(\"\")\n",
        "    plt.show()\n",
        "    print(\"----------------------------------------------------\")\n",
        "    cm = confusion_matrix(y_test, y_pred)\n",
        "    \n",
        "    matrix = sns.heatmap(cm, annot=True, cmap=colors, fmt=\"g\", linewidths=0.5, linecolor=\"black\")\n",
        "    matrix.set_title(\"Confusion matrix\")\n",
        "    \n",
        "    matrix.set_xlabel(\"\\nPredicted values\")\n",
        "    matrix.set_ylabel(\"Actual values\")\n",
        "    \n",
        "    matrix.xaxis.set_ticklabels([\"Benign\", \"Malicious\"])\n",
        "    matrix.yaxis.set_ticklabels([\"Benign\", \"Malicious\"])\n",
        "    \n",
        "    plt.show()\n",
        "    print(\"\\n****************************************************\")"
      ]
    },
    {
      "cell_type": "code",
      "execution_count": null,
      "metadata": {
        "colab": {
          "base_uri": "https://localhost:8080/",
          "height": 812
        },
        "id": "yXdYEk3a0PYs",
        "outputId": "55b719f3-0200-4e01-959e-1c105835cb51"
      },
      "outputs": [
        {
          "output_type": "stream",
          "name": "stdout",
          "text": [
            "\n",
            "****************************************************\n",
            "accuracy: 0.6576\n",
            "roc_auc_score: 0.5000\n",
            "----------------------------------------------------\n",
            "f1_score            :0.0000\n",
            "recall_score        :0.0000\n",
            "precision_score     :0.0000\n",
            "----------------------------------------------------\n",
            "ROC-Curve\n",
            "\n"
          ]
        },
        {
          "output_type": "display_data",
          "data": {
            "text/plain": [
              "<Figure size 432x288 with 1 Axes>"
            ],
            "image/png": "[encoded data removed]"
          },
          "metadata": {
            "needs_background": "light"
          }
        },
        {
          "output_type": "stream",
          "name": "stdout",
          "text": [
            "----------------------------------------------------\n"
          ]
        },
        {
          "output_type": "display_data",
          "data": {
            "text/plain": [
              "<Figure size 432x288 with 2 Axes>"
            ],
            "image/png": "[encoded data removed]"
          },
          "metadata": {
            "needs_background": "light"
          }
        },
        {
          "output_type": "stream",
          "name": "stdout",
          "text": [
            "\n",
            "****************************************************\n"
          ]
        }
      ],
      "source": [
        "dummy_classifier = DummyClassifier(strategy=\"most_frequent\", random_state=42)\n",
        "\n",
        "dummy_classifier.fit(X_train_std, y_train)\n",
        "\n",
        "dummy_test_pred = dummy_classifier.predict(X_test_std)\n",
        "dummy_pred_proba = dummy_classifier.predict_proba(X_test_std)\n",
        "\n",
        "classification_report(y_test, dummy_test_pred, dummy_pred_proba)"
      ]
    },
    {
      "cell_type": "markdown",
      "metadata": {
        "id": "-KIMBkLQyGxx"
      },
      "source": [
        "###5.2 Random Forest\n"
      ]
    },
    {
      "cell_type": "code",
      "execution_count": null,
      "metadata": {
        "colab": {
          "base_uri": "https://localhost:8080/",
          "height": 812
        },
        "id": "t5b9vPE_r1La",
        "outputId": "eb2d35de-75e7-45eb-c8e4-6d0e0f77c5f0"
      },
      "outputs": [
        {
          "output_type": "stream",
          "name": "stdout",
          "text": [
            "\n",
            "****************************************************\n",
            "accuracy: 0.8791\n",
            "roc_auc_score: 0.8310\n",
            "----------------------------------------------------\n",
            "f1_score            :0.7934\n",
            "recall_score        :0.6783\n",
            "precision_score     :0.9558\n",
            "----------------------------------------------------\n",
            "ROC-Curve\n",
            "\n"
          ]
        },
        {
          "output_type": "display_data",
          "data": {
            "text/plain": [
              "<Figure size 432x288 with 1 Axes>"
            ],
            "image/png": "[encoded data removed]"
          },
          "metadata": {
            "needs_background": "light"
          }
        },
        {
          "output_type": "stream",
          "name": "stdout",
          "text": [
            "----------------------------------------------------\n"
          ]
        },
        {
          "output_type": "display_data",
          "data": {
            "text/plain": [
              "<Figure size 432x288 with 2 Axes>"
            ],
            "image/png": "[encoded data removed]"
          },
          "metadata": {
            "needs_background": "light"
          }
        },
        {
          "output_type": "stream",
          "name": "stdout",
          "text": [
            "\n",
            "****************************************************\n"
          ]
        }
      ],
      "source": [
        "random_forest = RandomForestClassifier(random_state=42)\n",
        "\n",
        "param_grid = {\n",
        "    \"n_estimators\": [10, 50, 100],\n",
        "    \"max_features\": [\"log2\", \"sqrt\"],\n",
        "    \"max_depth\": [2, 3, 5],\n",
        "    \"max_leaf_nodes\": [2, 4, 6]\n",
        "}\n",
        "\n",
        "rf_grid = GridSearchCV(random_forest, param_grid=param_grid, cv=10)\n",
        "\n",
        "rf_grid.fit(X_train_std, y_train)\n",
        "\n",
        "rf_pred = rf_grid.best_estimator_.predict(X_test_std)\n",
        "rf_pred_proba = rf_grid.best_estimator_.predict_proba(X_test_std)\n",
        "\n",
        "classification_report(y_test, rf_pred, rf_pred_proba)"
      ]
    },
    {
      "cell_type": "code",
      "source": [
        "rf_grid.best_params_"
      ],
      "metadata": {
        "colab": {
          "base_uri": "https://localhost:8080/"
        },
        "id": "-Yn4o8n0olKs",
        "outputId": "45966b0d-2799-4478-a354-59448b7a0d80"
      },
      "execution_count": null,
      "outputs": [
        {
          "output_type": "execute_result",
          "data": {
            "text/plain": [
              "{'max_depth': 5,\n",
              " 'max_features': 'log2',\n",
              " 'max_leaf_nodes': 6,\n",
              " 'n_estimators': 100}"
            ]
          },
          "metadata": {},
          "execution_count": 33
        }
      ]
    },
    {
      "cell_type": "markdown",
      "metadata": {
        "id": "i_0dxub3x42C"
      },
      "source": [
        "###5.3 Logistic Regression"
      ]
    },
    {
      "cell_type": "code",
      "execution_count": null,
      "metadata": {
        "colab": {
          "base_uri": "https://localhost:8080/",
          "height": 867
        },
        "id": "GC9ZLa6mGkS3",
        "outputId": "a8105a32-ac34-40b5-8c2c-8ee72550f036"
      },
      "outputs": [
        {
          "output_type": "stream",
          "name": "stderr",
          "text": [
            "/usr/local/lib/python3.7/dist-packages/sklearn/linear_model/_sag.py:354: ConvergenceWarning: The max_iter was reached which means the coef_ did not converge\n",
            "  ConvergenceWarning,\n"
          ]
        },
        {
          "output_type": "stream",
          "name": "stdout",
          "text": [
            "\n",
            "****************************************************\n",
            "accuracy: 0.8618\n",
            "roc_auc_score: 0.8184\n",
            "----------------------------------------------------\n",
            "f1_score            :0.7713\n",
            "recall_score        :0.6805\n",
            "precision_score     :0.8900\n",
            "----------------------------------------------------\n",
            "ROC-Curve\n",
            "\n"
          ]
        },
        {
          "output_type": "display_data",
          "data": {
            "text/plain": [
              "<Figure size 432x288 with 1 Axes>"
            ],
            "image/png": "[encoded data removed]"
          },
          "metadata": {
            "needs_background": "light"
          }
        },
        {
          "output_type": "stream",
          "name": "stdout",
          "text": [
            "----------------------------------------------------\n"
          ]
        },
        {
          "output_type": "display_data",
          "data": {
            "text/plain": [
              "<Figure size 432x288 with 2 Axes>"
            ],
            "image/png": "[encoded data removed]"
          },
          "metadata": {
            "needs_background": "light"
          }
        },
        {
          "output_type": "stream",
          "name": "stdout",
          "text": [
            "\n",
            "****************************************************\n"
          ]
        }
      ],
      "source": [
        "logistic_regression = LogisticRegression(random_state=42, max_iter=1000)\n",
        "\n",
        "param_grid = {\n",
        "    \"penalty\": [\"l1\", \"l2\"],\n",
        "    \"C\": [0.0001, 0.001, 0.01, 0.1],\n",
        "    \"solver\": [\"liblinear\", \"saga\"]\n",
        "}\n",
        "\n",
        "lr_grid = GridSearchCV(logistic_regression, param_grid=param_grid, cv=10)\n",
        "\n",
        "lr_grid.fit(X_train_std, y_train)\n",
        "\n",
        "lr_grid_pred = lr_grid.best_estimator_.predict(X_test_std)\n",
        "lr_grid_pred_proba = lr_grid.best_estimator_.predict_proba(X_test_std)\n",
        "\n",
        "classification_report(y_test, lr_grid_pred, lr_grid_pred_proba)"
      ]
    },
    {
      "cell_type": "code",
      "source": [
        "lr_grid.best_params_"
      ],
      "metadata": {
        "colab": {
          "base_uri": "https://localhost:8080/"
        },
        "id": "mmQYcj_SprOG",
        "outputId": "8f3cb63f-5f15-420d-fe3e-6d360fd095e8"
      },
      "execution_count": null,
      "outputs": [
        {
          "output_type": "execute_result",
          "data": {
            "text/plain": [
              "{'C': 0.001, 'penalty': 'l2', 'solver': 'liblinear'}"
            ]
          },
          "metadata": {},
          "execution_count": 35
        }
      ]
    },
    {
      "cell_type": "markdown",
      "metadata": {
        "id": "nZZRZyKzGHiE"
      },
      "source": [
        "### 5.4 Multi Layer Perceptron"
      ]
    },
    {
      "cell_type": "code",
      "execution_count": null,
      "metadata": {
        "colab": {
          "base_uri": "https://localhost:8080/",
          "height": 235
        },
        "id": "3NrIAfVJO4NN",
        "outputId": "90ab54df-d507-4220-eab0-1e8e33e2b16b"
      },
      "outputs": [
        {
          "output_type": "error",
          "ename": "TypeError",
          "evalue": "ignored",
          "traceback": [
            "\u001b[0;31m---------------------------------------------------------------------------\u001b[0m",
            "\u001b[0;31mTypeError\u001b[0m                                 Traceback (most recent call last)",
            "\u001b[0;32m<ipython-input-38-06b469234a34>\u001b[0m in \u001b[0;36m<module>\u001b[0;34m\u001b[0m\n\u001b[1;32m     15\u001b[0m \u001b[0mperceptron_grid_pred_proba\u001b[0m \u001b[0;34m=\u001b[0m \u001b[0mperceptron_grid\u001b[0m\u001b[0;34m.\u001b[0m\u001b[0mbest_estimator_\u001b[0m\u001b[0;34m.\u001b[0m\u001b[0mpredict_proba\u001b[0m\u001b[0;34m(\u001b[0m\u001b[0mX_test_std\u001b[0m\u001b[0;34m)\u001b[0m\u001b[0;34m\u001b[0m\u001b[0;34m\u001b[0m\u001b[0m\n\u001b[1;32m     16\u001b[0m \u001b[0;34m\u001b[0m\u001b[0m\n\u001b[0;32m---> 17\u001b[0;31m \u001b[0mclassification_report\u001b[0m\u001b[0;34m(\u001b[0m\u001b[0my_test\u001b[0m\u001b[0;34m,\u001b[0m \u001b[0mperceptron_grid_pred\u001b[0m\u001b[0;34m)\u001b[0m\u001b[0;34m\u001b[0m\u001b[0;34m\u001b[0m\u001b[0m\n\u001b[0m",
            "\u001b[0;31mTypeError\u001b[0m: classification_report() missing 1 required positional argument: 'y_pred_proba'"
          ]
        }
      ],
      "source": [
        "perceptron = MLPClassifier(random_state=42, max_iter=1000)\n",
        "\n",
        "param_grid = {\n",
        "    \"hidden_layer_sizes\": [x for x in range(5, 10)],\n",
        "    \"activation\": [\"tanh\", \"relu\"],\n",
        "    \"solver\": [\"sgd\", \"adam\"],\n",
        "    \"alpha\":  [0.0001, 0.001, 0.01],\n",
        "}\n",
        "\n",
        "perceptron_grid = GridSearchCV(perceptron, param_grid=param_grid, cv=10)\n",
        "\n",
        "perceptron_grid.fit(X_train_std, y_train)\n",
        "\n",
        "perceptron_grid_pred = perceptron_grid.best_estimator_.predict(X_test_std)\n",
        "perceptron_grid_pred_proba = perceptron_grid.best_estimator_.predict_proba(X_test_std)\n",
        "\n",
        "classification_report(y_test, perceptron_grid_pred)"
      ]
    },
    {
      "cell_type": "code",
      "source": [
        "perceptron_grid_pred_proba = perceptron_grid.best_estimator_.predict_proba(X_test_std)"
      ],
      "metadata": {
        "id": "QX_VYNC6nppE"
      },
      "execution_count": null,
      "outputs": []
    },
    {
      "cell_type": "code",
      "source": [
        "classification_report(y_test, perceptron_grid_pred, perceptron_grid_pred_proba)"
      ],
      "metadata": {
        "colab": {
          "base_uri": "https://localhost:8080/",
          "height": 819
        },
        "id": "f8VUHcFin0kk",
        "outputId": "a4ec4fd9-e268-4341-dd41-667e9486442f"
      },
      "execution_count": null,
      "outputs": [
        {
          "output_type": "stream",
          "name": "stdout",
          "text": [
            "\n",
            "****************************************************\n",
            "accuracy: 0.9102\n",
            "roc_auc_score: 0.8890\n",
            "----------------------------------------------------\n",
            "f1_score            :0.8624\n",
            "recall_score        :0.8217\n",
            "precision_score     :0.9072\n",
            "----------------------------------------------------\n",
            "ROC-Curve\n",
            "\n"
          ]
        },
        {
          "output_type": "display_data",
          "data": {
            "text/plain": [
              "<Figure size 432x288 with 1 Axes>"
            ],
            "image/png": "[encoded data removed]"
          },
          "metadata": {
            "needs_background": "light"
          }
        },
        {
          "output_type": "stream",
          "name": "stdout",
          "text": [
            "----------------------------------------------------\n",
            "Confusion matrix\n",
            "\n"
          ]
        },
        {
          "output_type": "display_data",
          "data": {
            "text/plain": [
              "<Figure size 432x288 with 2 Axes>"
            ],
            "image/png": "[encoded data removed]"
          },
          "metadata": {
            "needs_background": "light"
          }
        },
        {
          "output_type": "stream",
          "name": "stdout",
          "text": [
            "\n",
            "****************************************************\n"
          ]
        }
      ]
    },
    {
      "cell_type": "code",
      "source": [
        "perceptron_grid.best_params_"
      ],
      "metadata": {
        "colab": {
          "base_uri": "https://localhost:8080/"
        },
        "id": "3GYVdOJf51Gv",
        "outputId": "595298d3-aea0-4b8e-e709-643c7fa7f421"
      },
      "execution_count": null,
      "outputs": [
        {
          "output_type": "execute_result",
          "data": {
            "text/plain": [
              "{'activation': 'relu',\n",
              " 'alpha': 0.0001,\n",
              " 'hidden_layer_sizes': 9,\n",
              " 'solver': 'adam'}"
            ]
          },
          "metadata": {},
          "execution_count": 52
        }
      ]
    },
    {
      "cell_type": "markdown",
      "metadata": {
        "id": "4OKag4vMyA5A"
      },
      "source": [
        "###5.5 XGBoost"
      ]
    },
    {
      "cell_type": "code",
      "source": [
        "xgboost = XGBClassifier(random_state=42)\n",
        "\n",
        "param_grid = {\n",
        "    \"colsample_bytree\": [0.7, 0.8],\n",
        "    \"max_depth\": [3, 4],\n",
        "    \"min_child_weight\": [4, 5],\n",
        "    \"subsample\": [i/10.0 for i in range(6, 11)],\n",
        "    \"gamma\": [i/10.0 for i in range(3, 6)],\n",
        "}\n",
        "\n",
        "xgb_grid = GridSearchCV(xgboost, param_grid=param_grid, cv=10)\n",
        "\n",
        "xgb_grid.fit(X_train_std, y_train)\n",
        "xgb_grid_pred = xgb_grid.best_estimator_.predict(X_test_std)\n",
        "xgb_grid_pred_proba = xgb_grid.best_estimator_.predict_proba(X_test_std)\n",
        "\n",
        "classification_report(y_test, xgb_grid_pred, xgb_grid_pred_proba)"
      ],
      "metadata": {
        "colab": {
          "base_uri": "https://localhost:8080/",
          "height": 812
        },
        "id": "DDdjamkRgIcd",
        "outputId": "e130e0d9-ad9b-48a9-cfe2-5d5c57348e34"
      },
      "execution_count": null,
      "outputs": [
        {
          "output_type": "stream",
          "name": "stdout",
          "text": [
            "\n",
            "****************************************************\n",
            "accuracy: 0.9263\n",
            "roc_auc_score: 0.9106\n",
            "----------------------------------------------------\n",
            "f1_score            :0.8889\n",
            "recall_score        :0.8610\n",
            "precision_score     :0.9187\n",
            "----------------------------------------------------\n",
            "ROC-Curve\n",
            "\n"
          ]
        },
        {
          "output_type": "display_data",
          "data": {
            "text/plain": [
              "<Figure size 432x288 with 1 Axes>"
            ],
            "image/png": "[encoded data removed]"
          },
          "metadata": {
            "needs_background": "light"
          }
        },
        {
          "output_type": "stream",
          "name": "stdout",
          "text": [
            "----------------------------------------------------\n"
          ]
        },
        {
          "output_type": "display_data",
          "data": {
            "text/plain": [
              "<Figure size 432x288 with 2 Axes>"
            ],
            "image/png": "[encoded data removed]"
          },
          "metadata": {
            "needs_background": "light"
          }
        },
        {
          "output_type": "stream",
          "name": "stdout",
          "text": [
            "\n",
            "****************************************************\n"
          ]
        }
      ]
    },
    {
      "cell_type": "code",
      "source": [
        "xgb_grid.best_params_   "
      ],
      "metadata": {
        "colab": {
          "base_uri": "https://localhost:8080/"
        },
        "id": "nwwODJ1d8UBM",
        "outputId": "4869b79e-3de3-4be3-eb66-ded7038b91b5"
      },
      "execution_count": null,
      "outputs": [
        {
          "output_type": "execute_result",
          "data": {
            "text/plain": [
              "{'colsample_bytree': 0.8,\n",
              " 'gamma': 0.3,\n",
              " 'max_depth': 4,\n",
              " 'min_child_weight': 4,\n",
              " 'subsample': 0.7}"
            ]
          },
          "metadata": {},
          "execution_count": 37
        }
      ]
    },
    {
      "cell_type": "markdown",
      "metadata": {
        "id": "dJGapH77ymCp"
      },
      "source": [
        "##Step 6: Model evaluation"
      ]
    },
    {
      "cell_type": "code",
      "source": [
        "X.head()"
      ],
      "metadata": {
        "colab": {
          "base_uri": "https://localhost:8080/",
          "height": 236
        },
        "id": "7ImwjdiZ9nhf",
        "outputId": "e8d9a8da-b09f-4dd7-bc54-3947212b0651"
      },
      "execution_count": null,
      "outputs": [
        {
          "output_type": "execute_result",
          "data": {
            "text/plain": [
              "        is_ip  is_https_secured  url_length  subdomain_len  tld_len  fld_len  \\\n",
              "514768      0                 0          48              8        3        9   \n",
              "222536      0                 0          44             10        2        6   \n",
              "276748      0                 0          31              0        3       11   \n",
              "50193       0                 0          30              0        3        9   \n",
              "339822      0                 0          32              0        3       12   \n",
              "\n",
              "        digit_count  letter_count  @  ?  ...  #  %  +  $  !  *  ,  //  \\\n",
              "514768            0            41  0  0  ...  0  0  0  0  0  0  0   0   \n",
              "222536            0            38  0  0  ...  0  0  0  0  0  0  0   0   \n",
              "276748            0            27  0  1  ...  0  0  0  0  0  0  0   0   \n",
              "50193             0            25  0  0  ...  0  0  0  0  0  0  0   0   \n",
              "339822            0            28  0  0  ...  0  0  0  0  0  0  0   0   \n",
              "\n",
              "        contains_shortening  special_count  \n",
              "514768                    0              4  \n",
              "222536                    0              3  \n",
              "276748                    0              3  \n",
              "50193                     0              1  \n",
              "339822                    0              2  \n",
              "\n",
              "[5 rows x 23 columns]"
            ],
            "text/html": [
              "\n",
              "  <div id=\"df-e0abf01e-f478-41a7-9f0d-0f5bde7fb656\">\n",
              "    <div class=\"colab-df-container\">\n",
              "      <div>\n",
              "<style scoped>\n",
              "    .dataframe tbody tr th:only-of-type {\n",
              "        vertical-align: middle;\n",
              "    }\n",
              "\n",
              "    .dataframe tbody tr th {\n",
              "        vertical-align: top;\n",
              "    }\n",
              "\n",
              "    .dataframe thead th {\n",
              "        text-align: right;\n",
              "    }\n",
              "</style>\n",
              "<table border=\"1\" class=\"dataframe\">\n",
              "  <thead>\n",
              "    <tr style=\"text-align: right;\">\n",
              "      <th></th>\n",
              "      <th>is_ip</th>\n",
              "      <th>is_https_secured</th>\n",
              "      <th>url_length</th>\n",
              "      <th>subdomain_len</th>\n",
              "      <th>tld_len</th>\n",
              "      <th>fld_len</th>\n",
              "      <th>digit_count</th>\n",
              "      <th>letter_count</th>\n",
              "      <th>@</th>\n",
              "      <th>?</th>\n",
              "      <th>...</th>\n",
              "      <th>#</th>\n",
              "      <th>%</th>\n",
              "      <th>+</th>\n",
              "      <th>$</th>\n",
              "      <th>!</th>\n",
              "      <th>*</th>\n",
              "      <th>,</th>\n",
              "      <th>//</th>\n",
              "      <th>contains_shortening</th>\n",
              "      <th>special_count</th>\n",
              "    </tr>\n",
              "  </thead>\n",
              "  <tbody>\n",
              "    <tr>\n",
              "      <th>514768</th>\n",
              "      <td>0</td>\n",
              "      <td>0</td>\n",
              "      <td>48</td>\n",
              "      <td>8</td>\n",
              "      <td>3</td>\n",
              "      <td>9</td>\n",
              "      <td>0</td>\n",
              "      <td>41</td>\n",
              "      <td>0</td>\n",
              "      <td>0</td>\n",
              "      <td>...</td>\n",
              "      <td>0</td>\n",
              "      <td>0</td>\n",
              "      <td>0</td>\n",
              "      <td>0</td>\n",
              "      <td>0</td>\n",
              "      <td>0</td>\n",
              "      <td>0</td>\n",
              "      <td>0</td>\n",
              "      <td>0</td>\n",
              "      <td>4</td>\n",
              "    </tr>\n",
              "    <tr>\n",
              "      <th>222536</th>\n",
              "      <td>0</td>\n",
              "      <td>0</td>\n",
              "      <td>44</td>\n",
              "      <td>10</td>\n",
              "      <td>2</td>\n",
              "      <td>6</td>\n",
              "      <td>0</td>\n",
              "      <td>38</td>\n",
              "      <td>0</td>\n",
              "      <td>0</td>\n",
              "      <td>...</td>\n",
              "      <td>0</td>\n",
              "      <td>0</td>\n",
              "      <td>0</td>\n",
              "      <td>0</td>\n",
              "      <td>0</td>\n",
              "      <td>0</td>\n",
              "      <td>0</td>\n",
              "      <td>0</td>\n",
              "      <td>0</td>\n",
              "      <td>3</td>\n",
              "    </tr>\n",
              "    <tr>\n",
              "      <th>276748</th>\n",
              "      <td>0</td>\n",
              "      <td>0</td>\n",
              "      <td>31</td>\n",
              "      <td>0</td>\n",
              "      <td>3</td>\n",
              "      <td>11</td>\n",
              "      <td>0</td>\n",
              "      <td>27</td>\n",
              "      <td>0</td>\n",
              "      <td>1</td>\n",
              "      <td>...</td>\n",
              "      <td>0</td>\n",
              "      <td>0</td>\n",
              "      <td>0</td>\n",
              "      <td>0</td>\n",
              "      <td>0</td>\n",
              "      <td>0</td>\n",
              "      <td>0</td>\n",
              "      <td>0</td>\n",
              "      <td>0</td>\n",
              "      <td>3</td>\n",
              "    </tr>\n",
              "    <tr>\n",
              "      <th>50193</th>\n",
              "      <td>0</td>\n",
              "      <td>0</td>\n",
              "      <td>30</td>\n",
              "      <td>0</td>\n",
              "      <td>3</td>\n",
              "      <td>9</td>\n",
              "      <td>0</td>\n",
              "      <td>25</td>\n",
              "      <td>0</td>\n",
              "      <td>0</td>\n",
              "      <td>...</td>\n",
              "      <td>0</td>\n",
              "      <td>0</td>\n",
              "      <td>0</td>\n",
              "      <td>0</td>\n",
              "      <td>0</td>\n",
              "      <td>0</td>\n",
              "      <td>0</td>\n",
              "      <td>0</td>\n",
              "      <td>0</td>\n",
              "      <td>1</td>\n",
              "    </tr>\n",
              "    <tr>\n",
              "      <th>339822</th>\n",
              "      <td>0</td>\n",
              "      <td>0</td>\n",
              "      <td>32</td>\n",
              "      <td>0</td>\n",
              "      <td>3</td>\n",
              "      <td>12</td>\n",
              "      <td>0</td>\n",
              "      <td>28</td>\n",
              "      <td>0</td>\n",
              "      <td>0</td>\n",
              "      <td>...</td>\n",
              "      <td>0</td>\n",
              "      <td>0</td>\n",
              "      <td>0</td>\n",
              "      <td>0</td>\n",
              "      <td>0</td>\n",
              "      <td>0</td>\n",
              "      <td>0</td>\n",
              "      <td>0</td>\n",
              "      <td>0</td>\n",
              "      <td>2</td>\n",
              "    </tr>\n",
              "  </tbody>\n",
              "</table>\n",
              "<p>5 rows × 23 columns</p>\n",
              "</div>\n",
              "      <button class=\"colab-df-convert\" onclick=\"convertToInteractive('df-e0abf01e-f478-41a7-9f0d-0f5bde7fb656')\"\n",
              "              title=\"Convert this dataframe to an interactive table.\"\n",
              "              style=\"display:none;\">\n",
              "        \n",
              "  <svg xmlns=\"http://www.w3.org/2000/svg\" height=\"24px\"viewBox=\"0 0 24 24\"\n",
              "       width=\"24px\">\n",
              "    <path d=\"M0 0h24v24H0V0z\" fill=\"none\"/>\n",
              "    <path d=\"M18.56 5.44l.94 2.06.94-2.06 2.06-.94-2.06-.94-.94-2.06-.94 2.06-2.06.94zm-11 1L8.5 8.5l.94-2.06 2.06-.94-2.06-.94L8.5 2.5l-.94 2.06-2.06.94zm10 10l.94 2.06.94-2.06 2.06-.94-2.06-.94-.94-2.06-.94 2.06-2.06.94z\"/><path d=\"M17.41 7.96l-1.37-1.37c-.4-.4-.92-.59-1.43-.59-.52 0-1.04.2-1.43.59L10.3 9.45l-7.72 7.72c-.78.78-.78 2.05 0 2.83L4 21.41c.39.39.9.59 1.41.59.51 0 1.02-.2 1.41-.59l7.78-7.78 2.81-2.81c.8-.78.8-2.07 0-2.86zM5.41 20L4 18.59l7.72-7.72 1.47 1.35L5.41 20z\"/>\n",
              "  </svg>\n",
              "      </button>\n",
              "      \n",
              "  <style>\n",
              "    .colab-df-container {\n",
              "      display:flex;\n",
              "      flex-wrap:wrap;\n",
              "      gap: 12px;\n",
              "    }\n",
              "\n",
              "    .colab-df-convert {\n",
              "      background-color: #E8F0FE;\n",
              "      border: none;\n",
              "      border-radius: 50%;\n",
              "      cursor: pointer;\n",
              "      display: none;\n",
              "      fill: #1967D2;\n",
              "      height: 32px;\n",
              "      padding: 0 0 0 0;\n",
              "      width: 32px;\n",
              "    }\n",
              "\n",
              "    .colab-df-convert:hover {\n",
              "      background-color: #E2EBFA;\n",
              "      box-shadow: 0px 1px 2px rgba(60, 64, 67, 0.3), 0px 1px 3px 1px rgba(60, 64, 67, 0.15);\n",
              "      fill: #174EA6;\n",
              "    }\n",
              "\n",
              "    [theme=dark] .colab-df-convert {\n",
              "      background-color: #3B4455;\n",
              "      fill: #D2E3FC;\n",
              "    }\n",
              "\n",
              "    [theme=dark] .colab-df-convert:hover {\n",
              "      background-color: #434B5C;\n",
              "      box-shadow: 0px 1px 3px 1px rgba(0, 0, 0, 0.15);\n",
              "      filter: drop-shadow(0px 1px 2px rgba(0, 0, 0, 0.3));\n",
              "      fill: #FFFFFF;\n",
              "    }\n",
              "  </style>\n",
              "\n",
              "      <script>\n",
              "        const buttonEl =\n",
              "          document.querySelector('#df-e0abf01e-f478-41a7-9f0d-0f5bde7fb656 button.colab-df-convert');\n",
              "        buttonEl.style.display =\n",
              "          google.colab.kernel.accessAllowed ? 'block' : 'none';\n",
              "\n",
              "        async function convertToInteractive(key) {\n",
              "          const element = document.querySelector('#df-e0abf01e-f478-41a7-9f0d-0f5bde7fb656');\n",
              "          const dataTable =\n",
              "            await google.colab.kernel.invokeFunction('convertToInteractive',\n",
              "                                                     [key], {});\n",
              "          if (!dataTable) return;\n",
              "\n",
              "          const docLinkHtml = 'Like what you see? Visit the ' +\n",
              "            '<a target=\"_blank\" href=https://colab.research.google.com/notebooks/data_table.ipynb>data table notebook</a>'\n",
              "            + ' to learn more about interactive tables.';\n",
              "          element.innerHTML = '';\n",
              "          dataTable['output_type'] = 'display_data';\n",
              "          await google.colab.output.renderOutput(dataTable, element);\n",
              "          const docLink = document.createElement('div');\n",
              "          docLink.innerHTML = docLinkHtml;\n",
              "          element.appendChild(docLink);\n",
              "        }\n",
              "      </script>\n",
              "    </div>\n",
              "  </div>\n",
              "  "
            ]
          },
          "metadata": {},
          "execution_count": 23
        }
      ]
    },
    {
      "cell_type": "code",
      "source": [
        "y"
      ],
      "metadata": {
        "colab": {
          "base_uri": "https://localhost:8080/"
        },
        "id": "wqLh9oe79156",
        "outputId": "71404035-3bae-476e-f047-f3ee6e92de80"
      },
      "execution_count": null,
      "outputs": [
        {
          "output_type": "execute_result",
          "data": {
            "text/plain": [
              "514768    0\n",
              "222536    0\n",
              "276748    0\n",
              "50193     0\n",
              "339822    0\n",
              "         ..\n",
              "130543    1\n",
              "550575    1\n",
              "550863    1\n",
              "540674    1\n",
              "552022    1\n",
              "Name: target, Length: 13023, dtype: uint8"
            ]
          },
          "metadata": {},
          "execution_count": 24
        }
      ]
    },
    {
      "cell_type": "code",
      "source": [
        "!pip show xgboost"
      ],
      "metadata": {
        "colab": {
          "base_uri": "https://localhost:8080/"
        },
        "id": "VZZ702xx-TAy",
        "outputId": "fb63d4f3-930e-4a8c-eefd-b73ffc461a40"
      },
      "execution_count": null,
      "outputs": [
        {
          "output_type": "stream",
          "name": "stdout",
          "text": [
            "Name: xgboost\n",
            "Version: 0.90\n",
            "Summary: XGBoost Python Package\n",
            "Home-page: https://github.com/dmlc/xgboost\n",
            "Author: None\n",
            "Author-email: None\n",
            "License: Apache-2.0\n",
            "Location: /usr/local/lib/python3.7/dist-packages\n",
            "Requires: numpy, scipy\n",
            "Required-by: \n"
          ]
        }
      ]
    }
  ],
  "metadata": {
    "colab": {
      "collapsed_sections": [
        "dPBtvmMSTOwV",
        "NNxKr8KMX3v6",
        "l7tMopblP7Jd"
      ],
      "provenance": []
    },
    "kernelspec": {
      "display_name": "Python 3",
      "name": "python3"
    },
    "language_info": {
      "name": "python"
    }
  },
  "nbformat": 4,
  "nbformat_minor": 0
}